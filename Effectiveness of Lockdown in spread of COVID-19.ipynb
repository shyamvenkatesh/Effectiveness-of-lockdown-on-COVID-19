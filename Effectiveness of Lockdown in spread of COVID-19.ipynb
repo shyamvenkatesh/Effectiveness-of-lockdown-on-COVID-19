{
 "cells": [
  {
   "cell_type": "markdown",
   "metadata": {},
   "source": [
    "### Importing all necessary libraries"
   ]
  },
  {
   "cell_type": "code",
   "execution_count": 1,
   "metadata": {},
   "outputs": [
    {
     "data": {
      "text/html": [
       "        <script type=\"text/javascript\">\n",
       "        window.PlotlyConfig = {MathJaxConfig: 'local'};\n",
       "        if (window.MathJax) {MathJax.Hub.Config({SVG: {font: \"STIX-Web\"}});}\n",
       "        if (typeof require !== 'undefined') {\n",
       "        require.undef(\"plotly\");\n",
       "        requirejs.config({\n",
       "            paths: {\n",
       "                'plotly': ['https://cdn.plot.ly/plotly-latest.min']\n",
       "            }\n",
       "        });\n",
       "        require(['plotly'], function(Plotly) {\n",
       "            window._Plotly = Plotly;\n",
       "        });\n",
       "        }\n",
       "        </script>\n",
       "        "
      ]
     },
     "metadata": {},
     "output_type": "display_data"
    }
   ],
   "source": [
    "import numpy as np # linear algebra\n",
    "import pandas as pd # data processing, CSV file I/O (e.g. pd.read_csv)\n",
    "from matplotlib import cm\n",
    "import geopandas as gpd\n",
    "import plotly.express as px\n",
    "import seaborn as sns\n",
    "from scipy.optimize import minimize\n",
    "from scipy.integrate import solve_ivp\n",
    "from plotly.offline import download_plotlyjs, init_notebook_mode, plot, iplot\n",
    "init_notebook_mode(connected=True)    #THIS LINE IS MOST IMPORTANT AS THIS WILL DISPLAY PLOT ON \n",
    "#NOTEBOOK WHILE KERNEL IS RUNNING\n",
    "import plotly.graph_objects as go\n",
    "from sklearn.metrics import mean_absolute_error\n",
    "from sklearn.metrics import mean_squared_error\n",
    "from sklearn.metrics import r2_score\n",
    "from IPython.display import HTML,display\n",
    "import warnings\n",
    "warnings.filterwarnings(\"ignore\")\n",
    "from scipy.integrate import odeint\n",
    "import matplotlib.pyplot as plt\n",
    "import matplotlib.pyplot as py\n",
    "from scipy import stats"
   ]
  },
  {
   "cell_type": "markdown",
   "metadata": {},
   "source": [
    "### Importing main dataset"
   ]
  },
  {
   "cell_type": "code",
   "execution_count": 2,
   "metadata": {},
   "outputs": [],
   "source": [
    "df = pd.read_csv('covid_19_india.csv', parse_dates=['Date'],dayfirst=True)"
   ]
  },
  {
   "cell_type": "markdown",
   "metadata": {},
   "source": [
    "### Importing tests dataset"
   ]
  },
  {
   "cell_type": "code",
   "execution_count": 3,
   "metadata": {},
   "outputs": [],
   "source": [
    "tests = pd.read_csv('StatewiseTestingDetails.csv' )"
   ]
  },
  {
   "cell_type": "markdown",
   "metadata": {},
   "source": [
    "### Eyeballing on the datasets"
   ]
  },
  {
   "cell_type": "code",
   "execution_count": 4,
   "metadata": {},
   "outputs": [
    {
     "data": {
      "text/html": [
       "<div>\n",
       "<style scoped>\n",
       "    .dataframe tbody tr th:only-of-type {\n",
       "        vertical-align: middle;\n",
       "    }\n",
       "\n",
       "    .dataframe tbody tr th {\n",
       "        vertical-align: top;\n",
       "    }\n",
       "\n",
       "    .dataframe thead th {\n",
       "        text-align: right;\n",
       "    }\n",
       "</style>\n",
       "<table border=\"1\" class=\"dataframe\">\n",
       "  <thead>\n",
       "    <tr style=\"text-align: right;\">\n",
       "      <th></th>\n",
       "      <th>Sno</th>\n",
       "      <th>Date</th>\n",
       "      <th>Time</th>\n",
       "      <th>State/UnionTerritory</th>\n",
       "      <th>ConfirmedIndianNational</th>\n",
       "      <th>ConfirmedForeignNational</th>\n",
       "      <th>Cured</th>\n",
       "      <th>Deaths</th>\n",
       "      <th>Confirmed</th>\n",
       "    </tr>\n",
       "  </thead>\n",
       "  <tbody>\n",
       "    <tr>\n",
       "      <td>0</td>\n",
       "      <td>1</td>\n",
       "      <td>2020-01-30</td>\n",
       "      <td>6:00 PM</td>\n",
       "      <td>Kerala</td>\n",
       "      <td>1</td>\n",
       "      <td>0</td>\n",
       "      <td>0</td>\n",
       "      <td>0</td>\n",
       "      <td>1</td>\n",
       "    </tr>\n",
       "    <tr>\n",
       "      <td>1</td>\n",
       "      <td>2</td>\n",
       "      <td>2020-01-31</td>\n",
       "      <td>6:00 PM</td>\n",
       "      <td>Kerala</td>\n",
       "      <td>1</td>\n",
       "      <td>0</td>\n",
       "      <td>0</td>\n",
       "      <td>0</td>\n",
       "      <td>1</td>\n",
       "    </tr>\n",
       "    <tr>\n",
       "      <td>2</td>\n",
       "      <td>3</td>\n",
       "      <td>2020-02-01</td>\n",
       "      <td>6:00 PM</td>\n",
       "      <td>Kerala</td>\n",
       "      <td>2</td>\n",
       "      <td>0</td>\n",
       "      <td>0</td>\n",
       "      <td>0</td>\n",
       "      <td>2</td>\n",
       "    </tr>\n",
       "    <tr>\n",
       "      <td>3</td>\n",
       "      <td>4</td>\n",
       "      <td>2020-02-02</td>\n",
       "      <td>6:00 PM</td>\n",
       "      <td>Kerala</td>\n",
       "      <td>3</td>\n",
       "      <td>0</td>\n",
       "      <td>0</td>\n",
       "      <td>0</td>\n",
       "      <td>3</td>\n",
       "    </tr>\n",
       "    <tr>\n",
       "      <td>4</td>\n",
       "      <td>5</td>\n",
       "      <td>2020-02-03</td>\n",
       "      <td>6:00 PM</td>\n",
       "      <td>Kerala</td>\n",
       "      <td>3</td>\n",
       "      <td>0</td>\n",
       "      <td>0</td>\n",
       "      <td>0</td>\n",
       "      <td>3</td>\n",
       "    </tr>\n",
       "  </tbody>\n",
       "</table>\n",
       "</div>"
      ],
      "text/plain": [
       "   Sno       Date     Time State/UnionTerritory ConfirmedIndianNational  \\\n",
       "0    1 2020-01-30  6:00 PM               Kerala                       1   \n",
       "1    2 2020-01-31  6:00 PM               Kerala                       1   \n",
       "2    3 2020-02-01  6:00 PM               Kerala                       2   \n",
       "3    4 2020-02-02  6:00 PM               Kerala                       3   \n",
       "4    5 2020-02-03  6:00 PM               Kerala                       3   \n",
       "\n",
       "  ConfirmedForeignNational  Cured  Deaths  Confirmed  \n",
       "0                        0      0       0          1  \n",
       "1                        0      0       0          1  \n",
       "2                        0      0       0          2  \n",
       "3                        0      0       0          3  \n",
       "4                        0      0       0          3  "
      ]
     },
     "execution_count": 4,
     "metadata": {},
     "output_type": "execute_result"
    }
   ],
   "source": [
    "df.head()"
   ]
  },
  {
   "cell_type": "code",
   "execution_count": 5,
   "metadata": {},
   "outputs": [
    {
     "name": "stdout",
     "output_type": "stream",
     "text": [
      "<class 'pandas.core.frame.DataFrame'>\n",
      "RangeIndex: 9291 entries, 0 to 9290\n",
      "Data columns (total 9 columns):\n",
      "Sno                         9291 non-null int64\n",
      "Date                        9291 non-null datetime64[ns]\n",
      "Time                        9291 non-null object\n",
      "State/UnionTerritory        9291 non-null object\n",
      "ConfirmedIndianNational     9291 non-null object\n",
      "ConfirmedForeignNational    9291 non-null object\n",
      "Cured                       9291 non-null int64\n",
      "Deaths                      9291 non-null int64\n",
      "Confirmed                   9291 non-null int64\n",
      "dtypes: datetime64[ns](1), int64(4), object(4)\n",
      "memory usage: 653.4+ KB\n"
     ]
    }
   ],
   "source": [
    "df.info()"
   ]
  },
  {
   "cell_type": "code",
   "execution_count": 6,
   "metadata": {},
   "outputs": [],
   "source": [
    "#keeping only required columns\n",
    "df = df[['Date','State/UnionTerritory','Cured','Deaths','Confirmed']]\n",
    "#renaming column names\n",
    "df.columns = [ 'date','state','cured','deaths','confirmed']"
   ]
  },
  {
   "cell_type": "code",
   "execution_count": 7,
   "metadata": {},
   "outputs": [],
   "source": [
    "#keeping only required columns\n",
    "tests = tests[['Date', 'State','TotalSamples','Negative','Positive']]\n",
    "#renaming column names\n",
    "tests.columns = ['date', 'state','total_samples','negative','positive']"
   ]
  },
  {
   "cell_type": "code",
   "execution_count": 8,
   "metadata": {},
   "outputs": [],
   "source": [
    "tests['negative'][tests['negative'].isna()]=tests['total_samples']-tests['positive']"
   ]
  },
  {
   "cell_type": "code",
   "execution_count": 9,
   "metadata": {},
   "outputs": [
    {
     "data": {
      "text/html": [
       "<div>\n",
       "<style scoped>\n",
       "    .dataframe tbody tr th:only-of-type {\n",
       "        vertical-align: middle;\n",
       "    }\n",
       "\n",
       "    .dataframe tbody tr th {\n",
       "        vertical-align: top;\n",
       "    }\n",
       "\n",
       "    .dataframe thead th {\n",
       "        text-align: right;\n",
       "    }\n",
       "</style>\n",
       "<table border=\"1\" class=\"dataframe\">\n",
       "  <thead>\n",
       "    <tr style=\"text-align: right;\">\n",
       "      <th></th>\n",
       "      <th>date</th>\n",
       "      <th>state</th>\n",
       "      <th>cured</th>\n",
       "      <th>deaths</th>\n",
       "      <th>confirmed</th>\n",
       "    </tr>\n",
       "  </thead>\n",
       "  <tbody>\n",
       "    <tr>\n",
       "      <td>0</td>\n",
       "      <td>2020-01-30</td>\n",
       "      <td>Kerala</td>\n",
       "      <td>0</td>\n",
       "      <td>0</td>\n",
       "      <td>1</td>\n",
       "    </tr>\n",
       "    <tr>\n",
       "      <td>1</td>\n",
       "      <td>2020-01-31</td>\n",
       "      <td>Kerala</td>\n",
       "      <td>0</td>\n",
       "      <td>0</td>\n",
       "      <td>1</td>\n",
       "    </tr>\n",
       "    <tr>\n",
       "      <td>2</td>\n",
       "      <td>2020-02-01</td>\n",
       "      <td>Kerala</td>\n",
       "      <td>0</td>\n",
       "      <td>0</td>\n",
       "      <td>2</td>\n",
       "    </tr>\n",
       "    <tr>\n",
       "      <td>3</td>\n",
       "      <td>2020-02-02</td>\n",
       "      <td>Kerala</td>\n",
       "      <td>0</td>\n",
       "      <td>0</td>\n",
       "      <td>3</td>\n",
       "    </tr>\n",
       "    <tr>\n",
       "      <td>4</td>\n",
       "      <td>2020-02-03</td>\n",
       "      <td>Kerala</td>\n",
       "      <td>0</td>\n",
       "      <td>0</td>\n",
       "      <td>3</td>\n",
       "    </tr>\n",
       "    <tr>\n",
       "      <td>...</td>\n",
       "      <td>...</td>\n",
       "      <td>...</td>\n",
       "      <td>...</td>\n",
       "      <td>...</td>\n",
       "      <td>...</td>\n",
       "    </tr>\n",
       "    <tr>\n",
       "      <td>9286</td>\n",
       "      <td>2020-12-09</td>\n",
       "      <td>Telengana</td>\n",
       "      <td>266120</td>\n",
       "      <td>1480</td>\n",
       "      <td>275261</td>\n",
       "    </tr>\n",
       "    <tr>\n",
       "      <td>9287</td>\n",
       "      <td>2020-12-09</td>\n",
       "      <td>Tripura</td>\n",
       "      <td>32169</td>\n",
       "      <td>373</td>\n",
       "      <td>32945</td>\n",
       "    </tr>\n",
       "    <tr>\n",
       "      <td>9288</td>\n",
       "      <td>2020-12-09</td>\n",
       "      <td>Uttarakhand</td>\n",
       "      <td>72435</td>\n",
       "      <td>1307</td>\n",
       "      <td>79141</td>\n",
       "    </tr>\n",
       "    <tr>\n",
       "      <td>9289</td>\n",
       "      <td>2020-12-09</td>\n",
       "      <td>Uttar Pradesh</td>\n",
       "      <td>528832</td>\n",
       "      <td>7967</td>\n",
       "      <td>558173</td>\n",
       "    </tr>\n",
       "    <tr>\n",
       "      <td>9290</td>\n",
       "      <td>2020-12-09</td>\n",
       "      <td>West Bengal</td>\n",
       "      <td>475425</td>\n",
       "      <td>8820</td>\n",
       "      <td>507995</td>\n",
       "    </tr>\n",
       "  </tbody>\n",
       "</table>\n",
       "<p>9291 rows × 5 columns</p>\n",
       "</div>"
      ],
      "text/plain": [
       "           date          state   cured  deaths  confirmed\n",
       "0    2020-01-30         Kerala       0       0          1\n",
       "1    2020-01-31         Kerala       0       0          1\n",
       "2    2020-02-01         Kerala       0       0          2\n",
       "3    2020-02-02         Kerala       0       0          3\n",
       "4    2020-02-03         Kerala       0       0          3\n",
       "...         ...            ...     ...     ...        ...\n",
       "9286 2020-12-09      Telengana  266120    1480     275261\n",
       "9287 2020-12-09        Tripura   32169     373      32945\n",
       "9288 2020-12-09    Uttarakhand   72435    1307      79141\n",
       "9289 2020-12-09  Uttar Pradesh  528832    7967     558173\n",
       "9290 2020-12-09    West Bengal  475425    8820     507995\n",
       "\n",
       "[9291 rows x 5 columns]"
      ]
     },
     "execution_count": 9,
     "metadata": {},
     "output_type": "execute_result"
    }
   ],
   "source": [
    "df"
   ]
  },
  {
   "cell_type": "markdown",
   "metadata": {},
   "source": [
    "### EDA on the datasets"
   ]
  },
  {
   "cell_type": "code",
   "execution_count": 10,
   "metadata": {},
   "outputs": [
    {
     "data": {
      "image/png": "[encoded data removed]",
      "text/plain": [
       "<Figure size 864x360 with 1 Axes>"
      ]
     },
     "metadata": {
      "needs_background": "light"
     },
     "output_type": "display_data"
    }
   ],
   "source": [
    "df3 = df.copy()\n",
    "df3.index = df3['date']\n",
    "df3.drop('date',axis=1)\n",
    "df3['confirmed'].plot(figsize=(12,5), title=\"Confirmed Cases across India\").autoscale(axis='x',tight=True)"
   ]
  },
  {
   "cell_type": "code",
   "execution_count": 11,
   "metadata": {},
   "outputs": [
    {
     "data": {
      "text/plain": [
       "<matplotlib.axes._subplots.AxesSubplot at 0x154021bde08>"
      ]
     },
     "execution_count": 11,
     "metadata": {},
     "output_type": "execute_result"
    },
    {
     "data": {
      "image/png": "[encoded data removed]",
      "text/plain": [
       "<Figure size 864x360 with 1 Axes>"
      ]
     },
     "metadata": {
      "needs_background": "light"
     },
     "output_type": "display_data"
    }
   ],
   "source": [
    "df['confirmed'].expanding().sum().plot(figsize=(12,5), title = \"Growth in Confirmed cases\")"
   ]
  },
  {
   "cell_type": "code",
   "execution_count": 12,
   "metadata": {},
   "outputs": [
    {
     "data": {
      "application/vnd.plotly.v1+json": {
       "config": {
        "plotlyServerURL": "https://plot.ly"
       },
       "data": [
        {
         "alignmentgroup": "True",
         "hovertemplate": "confirmed=%{text}<br>state=%{y}<extra></extra>",
         "legendgroup": "",
         "marker": {
          "color": "teal"
         },
         "name": "",
         "offsetgroup": "",
         "orientation": "h",
         "showlegend": false,
         "text": [
          166,
          192,
          233,
          318,
          387,
          495,
          588,
          845,
          1243,
          1468,
          1626,
          2080,
          2583,
          3608,
          3898,
          4217,
          8178,
          8322,
          10827,
          13737,
          16806,
          17959,
          18207,
          21894,
          24936,
          31103,
          31448,
          36221,
          38130,
          41581,
          42722,
          113740,
          142798,
          260924
         ],
         "textposition": "auto",
         "type": "bar",
         "x": [
          166,
          192,
          233,
          318,
          387,
          495,
          588,
          845,
          1243,
          1468,
          1626,
          2080,
          2583,
          3608,
          3898,
          4217,
          8178,
          8322,
          10827,
          13737,
          16806,
          17959,
          18207,
          21894,
          24936,
          31103,
          31448,
          36221,
          38130,
          41581,
          42722,
          113740,
          142798,
          260924
         ],
         "xaxis": "x",
         "y": [
          "A & N",
          "Sikkim",
          "Mizoram",
          "Meghalaya",
          "Arunachal Pradesh",
          "Daman & Diu",
          "Chandigarh",
          "Nagaland",
          "Himachal Pradesh",
          "Puducherry",
          "Manipur",
          "Tripura",
          "Goa",
          "Uttarakhand",
          "Jharkhand",
          "Chhattisgarh",
          "Punjab",
          "Kerala",
          "J & K",
          "Odisha",
          "Assam",
          "Bihar",
          "Madhya Pradesh",
          "Haryana",
          "Rajasthan",
          "Andhra Pradesh",
          "West Bengal",
          "Telangana",
          "Uttar Pradesh",
          "Karnataka",
          "Gujarat",
          "Delhi",
          "Tamil Nadu",
          "Maharashtra"
         ],
         "yaxis": "y"
        }
       ],
       "layout": {
        "autosize": false,
        "barmode": "relative",
        "height": 850,
        "legend": {
         "tracegroupgap": 0
        },
        "margin": {
         "t": 60
        },
        "paper_bgcolor": "aqua",
        "plot_bgcolor": "aqua",
        "template": {
         "data": {
          "bar": [
           {
            "error_x": {
             "color": "#2a3f5f"
            },
            "error_y": {
             "color": "#2a3f5f"
            },
            "marker": {
             "line": {
              "color": "#E5ECF6",
              "width": 0.5
             }
            },
            "type": "bar"
           }
          ],
          "barpolar": [
           {
            "marker": {
             "line": {
              "color": "#E5ECF6",
              "width": 0.5
             }
            },
            "type": "barpolar"
           }
          ],
          "carpet": [
           {
            "aaxis": {
             "endlinecolor": "#2a3f5f",
             "gridcolor": "white",
             "linecolor": "white",
             "minorgridcolor": "white",
             "startlinecolor": "#2a3f5f"
            },
            "baxis": {
             "endlinecolor": "#2a3f5f",
             "gridcolor": "white",
             "linecolor": "white",
             "minorgridcolor": "white",
             "startlinecolor": "#2a3f5f"
            },
            "type": "carpet"
           }
          ],
          "choropleth": [
           {
            "colorbar": {
             "outlinewidth": 0,
             "ticks": ""
            },
            "type": "choropleth"
           }
          ],
          "contour": [
           {
            "colorbar": {
             "outlinewidth": 0,
             "ticks": ""
            },
            "colorscale": [
             [
              0,
              "#0d0887"
             ],
             [
              0.1111111111111111,
              "#46039f"
             ],
             [
              0.2222222222222222,
              "#7201a8"
             ],
             [
              0.3333333333333333,
              "#9c179e"
             ],
             [
              0.4444444444444444,
              "#bd3786"
             ],
             [
              0.5555555555555556,
              "#d8576b"
             ],
             [
              0.6666666666666666,
              "#ed7953"
             ],
             [
              0.7777777777777778,
              "#fb9f3a"
             ],
             [
              0.8888888888888888,
              "#fdca26"
             ],
             [
              1,
              "#f0f921"
             ]
            ],
            "type": "contour"
           }
          ],
          "contourcarpet": [
           {
            "colorbar": {
             "outlinewidth": 0,
             "ticks": ""
            },
            "type": "contourcarpet"
           }
          ],
          "heatmap": [
           {
            "colorbar": {
             "outlinewidth": 0,
             "ticks": ""
            },
            "colorscale": [
             [
              0,
              "#0d0887"
             ],
             [
              0.1111111111111111,
              "#46039f"
             ],
             [
              0.2222222222222222,
              "#7201a8"
             ],
             [
              0.3333333333333333,
              "#9c179e"
             ],
             [
              0.4444444444444444,
              "#bd3786"
             ],
             [
              0.5555555555555556,
              "#d8576b"
             ],
             [
              0.6666666666666666,
              "#ed7953"
             ],
             [
              0.7777777777777778,
              "#fb9f3a"
             ],
             [
              0.8888888888888888,
              "#fdca26"
             ],
             [
              1,
              "#f0f921"
             ]
            ],
            "type": "heatmap"
           }
          ],
          "heatmapgl": [
           {
            "colorbar": {
             "outlinewidth": 0,
             "ticks": ""
            },
            "colorscale": [
             [
              0,
              "#0d0887"
             ],
             [
              0.1111111111111111,
              "#46039f"
             ],
             [
              0.2222222222222222,
              "#7201a8"
             ],
             [
              0.3333333333333333,
              "#9c179e"
             ],
             [
              0.4444444444444444,
              "#bd3786"
             ],
             [
              0.5555555555555556,
              "#d8576b"
             ],
             [
              0.6666666666666666,
              "#ed7953"
             ],
             [
              0.7777777777777778,
              "#fb9f3a"
             ],
             [
              0.8888888888888888,
              "#fdca26"
             ],
             [
              1,
              "#f0f921"
             ]
            ],
            "type": "heatmapgl"
           }
          ],
          "histogram": [
           {
            "marker": {
             "colorbar": {
              "outlinewidth": 0,
              "ticks": ""
             }
            },
            "type": "histogram"
           }
          ],
          "histogram2d": [
           {
            "colorbar": {
             "outlinewidth": 0,
             "ticks": ""
            },
            "colorscale": [
             [
              0,
              "#0d0887"
             ],
             [
              0.1111111111111111,
              "#46039f"
             ],
             [
              0.2222222222222222,
              "#7201a8"
             ],
             [
              0.3333333333333333,
              "#9c179e"
             ],
             [
              0.4444444444444444,
              "#bd3786"
             ],
             [
              0.5555555555555556,
              "#d8576b"
             ],
             [
              0.6666666666666666,
              "#ed7953"
             ],
             [
              0.7777777777777778,
              "#fb9f3a"
             ],
             [
              0.8888888888888888,
              "#fdca26"
             ],
             [
              1,
              "#f0f921"
             ]
            ],
            "type": "histogram2d"
           }
          ],
          "histogram2dcontour": [
           {
            "colorbar": {
             "outlinewidth": 0,
             "ticks": ""
            },
            "colorscale": [
             [
              0,
              "#0d0887"
             ],
             [
              0.1111111111111111,
              "#46039f"
             ],
             [
              0.2222222222222222,
              "#7201a8"
             ],
             [
              0.3333333333333333,
              "#9c179e"
             ],
             [
              0.4444444444444444,
              "#bd3786"
             ],
             [
              0.5555555555555556,
              "#d8576b"
             ],
             [
              0.6666666666666666,
              "#ed7953"
             ],
             [
              0.7777777777777778,
              "#fb9f3a"
             ],
             [
              0.8888888888888888,
              "#fdca26"
             ],
             [
              1,
              "#f0f921"
             ]
            ],
            "type": "histogram2dcontour"
           }
          ],
          "mesh3d": [
           {
            "colorbar": {
             "outlinewidth": 0,
             "ticks": ""
            },
            "type": "mesh3d"
           }
          ],
          "parcoords": [
           {
            "line": {
             "colorbar": {
              "outlinewidth": 0,
              "ticks": ""
             }
            },
            "type": "parcoords"
           }
          ],
          "pie": [
           {
            "automargin": true,
            "type": "pie"
           }
          ],
          "scatter": [
           {
            "marker": {
             "colorbar": {
              "outlinewidth": 0,
              "ticks": ""
             }
            },
            "type": "scatter"
           }
          ],
          "scatter3d": [
           {
            "line": {
             "colorbar": {
              "outlinewidth": 0,
              "ticks": ""
             }
            },
            "marker": {
             "colorbar": {
              "outlinewidth": 0,
              "ticks": ""
             }
            },
            "type": "scatter3d"
           }
          ],
          "scattercarpet": [
           {
            "marker": {
             "colorbar": {
              "outlinewidth": 0,
              "ticks": ""
             }
            },
            "type": "scattercarpet"
           }
          ],
          "scattergeo": [
           {
            "marker": {
             "colorbar": {
              "outlinewidth": 0,
              "ticks": ""
             }
            },
            "type": "scattergeo"
           }
          ],
          "scattergl": [
           {
            "marker": {
             "colorbar": {
              "outlinewidth": 0,
              "ticks": ""
             }
            },
            "type": "scattergl"
           }
          ],
          "scattermapbox": [
           {
            "marker": {
             "colorbar": {
              "outlinewidth": 0,
              "ticks": ""
             }
            },
            "type": "scattermapbox"
           }
          ],
          "scatterpolar": [
           {
            "marker": {
             "colorbar": {
              "outlinewidth": 0,
              "ticks": ""
             }
            },
            "type": "scatterpolar"
           }
          ],
          "scatterpolargl": [
           {
            "marker": {
             "colorbar": {
              "outlinewidth": 0,
              "ticks": ""
             }
            },
            "type": "scatterpolargl"
           }
          ],
          "scatterternary": [
           {
            "marker": {
             "colorbar": {
              "outlinewidth": 0,
              "ticks": ""
             }
            },
            "type": "scatterternary"
           }
          ],
          "surface": [
           {
            "colorbar": {
             "outlinewidth": 0,
             "ticks": ""
            },
            "colorscale": [
             [
              0,
              "#0d0887"
             ],
             [
              0.1111111111111111,
              "#46039f"
             ],
             [
              0.2222222222222222,
              "#7201a8"
             ],
             [
              0.3333333333333333,
              "#9c179e"
             ],
             [
              0.4444444444444444,
              "#bd3786"
             ],
             [
              0.5555555555555556,
              "#d8576b"
             ],
             [
              0.6666666666666666,
              "#ed7953"
             ],
             [
              0.7777777777777778,
              "#fb9f3a"
             ],
             [
              0.8888888888888888,
              "#fdca26"
             ],
             [
              1,
              "#f0f921"
             ]
            ],
            "type": "surface"
           }
          ],
          "table": [
           {
            "cells": {
             "fill": {
              "color": "#EBF0F8"
             },
             "line": {
              "color": "white"
             }
            },
            "header": {
             "fill": {
              "color": "#C8D4E3"
             },
             "line": {
              "color": "white"
             }
            },
            "type": "table"
           }
          ]
         },
         "layout": {
          "annotationdefaults": {
           "arrowcolor": "#2a3f5f",
           "arrowhead": 0,
           "arrowwidth": 1
          },
          "autotypenumbers": "strict",
          "coloraxis": {
           "colorbar": {
            "outlinewidth": 0,
            "ticks": ""
           }
          },
          "colorscale": {
           "diverging": [
            [
             0,
             "#8e0152"
            ],
            [
             0.1,
             "#c51b7d"
            ],
            [
             0.2,
             "#de77ae"
            ],
            [
             0.3,
             "#f1b6da"
            ],
            [
             0.4,
             "#fde0ef"
            ],
            [
             0.5,
             "#f7f7f7"
            ],
            [
             0.6,
             "#e6f5d0"
            ],
            [
             0.7,
             "#b8e186"
            ],
            [
             0.8,
             "#7fbc41"
            ],
            [
             0.9,
             "#4d9221"
            ],
            [
             1,
             "#276419"
            ]
           ],
           "sequential": [
            [
             0,
             "#0d0887"
            ],
            [
             0.1111111111111111,
             "#46039f"
            ],
            [
             0.2222222222222222,
             "#7201a8"
            ],
            [
             0.3333333333333333,
             "#9c179e"
            ],
            [
             0.4444444444444444,
             "#bd3786"
            ],
            [
             0.5555555555555556,
             "#d8576b"
            ],
            [
             0.6666666666666666,
             "#ed7953"
            ],
            [
             0.7777777777777778,
             "#fb9f3a"
            ],
            [
             0.8888888888888888,
             "#fdca26"
            ],
            [
             1,
             "#f0f921"
            ]
           ],
           "sequentialminus": [
            [
             0,
             "#0d0887"
            ],
            [
             0.1111111111111111,
             "#46039f"
            ],
            [
             0.2222222222222222,
             "#7201a8"
            ],
            [
             0.3333333333333333,
             "#9c179e"
            ],
            [
             0.4444444444444444,
             "#bd3786"
            ],
            [
             0.5555555555555556,
             "#d8576b"
            ],
            [
             0.6666666666666666,
             "#ed7953"
            ],
            [
             0.7777777777777778,
             "#fb9f3a"
            ],
            [
             0.8888888888888888,
             "#fdca26"
            ],
            [
             1,
             "#f0f921"
            ]
           ]
          },
          "colorway": [
           "#636efa",
           "#EF553B",
           "#00cc96",
           "#ab63fa",
           "#FFA15A",
           "#19d3f3",
           "#FF6692",
           "#B6E880",
           "#FF97FF",
           "#FECB52"
          ],
          "font": {
           "color": "#2a3f5f"
          },
          "geo": {
           "bgcolor": "white",
           "lakecolor": "white",
           "landcolor": "#E5ECF6",
           "showlakes": true,
           "showland": true,
           "subunitcolor": "white"
          },
          "hoverlabel": {
           "align": "left"
          },
          "hovermode": "closest",
          "mapbox": {
           "style": "light"
          },
          "paper_bgcolor": "white",
          "plot_bgcolor": "#E5ECF6",
          "polar": {
           "angularaxis": {
            "gridcolor": "white",
            "linecolor": "white",
            "ticks": ""
           },
           "bgcolor": "#E5ECF6",
           "radialaxis": {
            "gridcolor": "white",
            "linecolor": "white",
            "ticks": ""
           }
          },
          "scene": {
           "xaxis": {
            "backgroundcolor": "#E5ECF6",
            "gridcolor": "white",
            "gridwidth": 2,
            "linecolor": "white",
            "showbackground": true,
            "ticks": "",
            "zerolinecolor": "white"
           },
           "yaxis": {
            "backgroundcolor": "#E5ECF6",
            "gridcolor": "white",
            "gridwidth": 2,
            "linecolor": "white",
            "showbackground": true,
            "ticks": "",
            "zerolinecolor": "white"
           },
           "zaxis": {
            "backgroundcolor": "#E5ECF6",
            "gridcolor": "white",
            "gridwidth": 2,
            "linecolor": "white",
            "showbackground": true,
            "ticks": "",
            "zerolinecolor": "white"
           }
          },
          "shapedefaults": {
           "line": {
            "color": "#2a3f5f"
           }
          },
          "ternary": {
           "aaxis": {
            "gridcolor": "white",
            "linecolor": "white",
            "ticks": ""
           },
           "baxis": {
            "gridcolor": "white",
            "linecolor": "white",
            "ticks": ""
           },
           "bgcolor": "#E5ECF6",
           "caxis": {
            "gridcolor": "white",
            "linecolor": "white",
            "ticks": ""
           }
          },
          "title": {
           "x": 0.05
          },
          "xaxis": {
           "automargin": true,
           "gridcolor": "white",
           "linecolor": "white",
           "ticks": "",
           "title": {
            "standoff": 15
           },
           "zerolinecolor": "white",
           "zerolinewidth": 2
          },
          "yaxis": {
           "automargin": true,
           "gridcolor": "white",
           "linecolor": "white",
           "ticks": "",
           "title": {
            "standoff": 15
           },
           "zerolinecolor": "white",
           "zerolinewidth": 2
          }
         }
        },
        "title": {
         "text": "<b>Confirmed cases of Covid-19 per State <b>",
         "x": 0.5
        },
        "width": 850,
        "xaxis": {
         "anchor": "y",
         "domain": [
          0,
          1
         ],
         "tickfont": {
          "color": "black",
          "family": "Rockwell",
          "size": 14
         },
         "title": {
          "text": "confirmed"
         }
        },
        "yaxis": {
         "anchor": "x",
         "domain": [
          0,
          1
         ],
         "tickfont": {
          "color": "black",
          "family": "Rockwell",
          "size": 14
         },
         "title": {
          "text": "state"
         }
        }
       }
      },
      "text/html": [
       "<div>                            <div id=\"1c8d3124-ebdf-4da0-8748-c5432a8744ab\" class=\"plotly-graph-div\" style=\"height:850px; width:850px;\"></div>            <script type=\"text/javascript\">                require([\"plotly\"], function(Plotly) {                    window.PLOTLYENV=window.PLOTLYENV || {};                                    if (document.getElementById(\"1c8d3124-ebdf-4da0-8748-c5432a8744ab\")) {                    Plotly.newPlot(                        \"1c8d3124-ebdf-4da0-8748-c5432a8744ab\",                        [{\"alignmentgroup\": \"True\", \"hovertemplate\": \"confirmed=%{text}<br>state=%{y}<extra></extra>\", \"legendgroup\": \"\", \"marker\": {\"color\": \"teal\"}, \"name\": \"\", \"offsetgroup\": \"\", \"orientation\": \"h\", \"showlegend\": false, \"text\": [166.0, 192.0, 233.0, 318.0, 387.0, 495.0, 588.0, 845.0, 1243.0, 1468.0, 1626.0, 2080.0, 2583.0, 3608.0, 3898.0, 4217.0, 8178.0, 8322.0, 10827.0, 13737.0, 16806.0, 17959.0, 18207.0, 21894.0, 24936.0, 31103.0, 31448.0, 36221.0, 38130.0, 41581.0, 42722.0, 113740.0, 142798.0, 260924.0], \"textposition\": \"auto\", \"type\": \"bar\", \"x\": [166, 192, 233, 318, 387, 495, 588, 845, 1243, 1468, 1626, 2080, 2583, 3608, 3898, 4217, 8178, 8322, 10827, 13737, 16806, 17959, 18207, 21894, 24936, 31103, 31448, 36221, 38130, 41581, 42722, 113740, 142798, 260924], \"xaxis\": \"x\", \"y\": [\"A & N\", \"Sikkim\", \"Mizoram\", \"Meghalaya\", \"Arunachal Pradesh\", \"Daman & Diu\", \"Chandigarh\", \"Nagaland\", \"Himachal Pradesh\", \"Puducherry\", \"Manipur\", \"Tripura\", \"Goa\", \"Uttarakhand\", \"Jharkhand\", \"Chhattisgarh\", \"Punjab\", \"Kerala\", \"J & K\", \"Odisha\", \"Assam\", \"Bihar\", \"Madhya Pradesh\", \"Haryana\", \"Rajasthan\", \"Andhra Pradesh\", \"West Bengal\", \"Telangana\", \"Uttar Pradesh\", \"Karnataka\", \"Gujarat\", \"Delhi\", \"Tamil Nadu\", \"Maharashtra\"], \"yaxis\": \"y\"}],                        {\"autosize\": false, \"barmode\": \"relative\", \"height\": 850, \"legend\": {\"tracegroupgap\": 0}, \"margin\": {\"t\": 60}, \"paper_bgcolor\": \"aqua\", \"plot_bgcolor\": \"aqua\", \"template\": {\"data\": {\"bar\": [{\"error_x\": {\"color\": \"#2a3f5f\"}, \"error_y\": {\"color\": \"#2a3f5f\"}, \"marker\": {\"line\": {\"color\": \"#E5ECF6\", \"width\": 0.5}}, \"type\": \"bar\"}], \"barpolar\": [{\"marker\": {\"line\": {\"color\": \"#E5ECF6\", \"width\": 0.5}}, \"type\": \"barpolar\"}], \"carpet\": [{\"aaxis\": {\"endlinecolor\": \"#2a3f5f\", \"gridcolor\": \"white\", \"linecolor\": \"white\", \"minorgridcolor\": \"white\", \"startlinecolor\": \"#2a3f5f\"}, \"baxis\": {\"endlinecolor\": \"#2a3f5f\", \"gridcolor\": \"white\", \"linecolor\": \"white\", \"minorgridcolor\": \"white\", \"startlinecolor\": \"#2a3f5f\"}, \"type\": \"carpet\"}], \"choropleth\": [{\"colorbar\": {\"outlinewidth\": 0, \"ticks\": \"\"}, \"type\": \"choropleth\"}], \"contour\": [{\"colorbar\": {\"outlinewidth\": 0, \"ticks\": \"\"}, \"colorscale\": [[0.0, \"#0d0887\"], [0.1111111111111111, \"#46039f\"], [0.2222222222222222, \"#7201a8\"], [0.3333333333333333, \"#9c179e\"], [0.4444444444444444, \"#bd3786\"], [0.5555555555555556, \"#d8576b\"], [0.6666666666666666, \"#ed7953\"], [0.7777777777777778, \"#fb9f3a\"], [0.8888888888888888, \"#fdca26\"], [1.0, \"#f0f921\"]], \"type\": \"contour\"}], \"contourcarpet\": [{\"colorbar\": {\"outlinewidth\": 0, \"ticks\": \"\"}, \"type\": \"contourcarpet\"}], \"heatmap\": [{\"colorbar\": {\"outlinewidth\": 0, \"ticks\": \"\"}, \"colorscale\": [[0.0, \"#0d0887\"], [0.1111111111111111, \"#46039f\"], [0.2222222222222222, \"#7201a8\"], [0.3333333333333333, \"#9c179e\"], [0.4444444444444444, \"#bd3786\"], [0.5555555555555556, \"#d8576b\"], [0.6666666666666666, \"#ed7953\"], [0.7777777777777778, \"#fb9f3a\"], [0.8888888888888888, \"#fdca26\"], [1.0, \"#f0f921\"]], \"type\": \"heatmap\"}], \"heatmapgl\": [{\"colorbar\": {\"outlinewidth\": 0, \"ticks\": \"\"}, \"colorscale\": [[0.0, \"#0d0887\"], [0.1111111111111111, \"#46039f\"], [0.2222222222222222, \"#7201a8\"], [0.3333333333333333, \"#9c179e\"], [0.4444444444444444, \"#bd3786\"], [0.5555555555555556, \"#d8576b\"], [0.6666666666666666, \"#ed7953\"], [0.7777777777777778, \"#fb9f3a\"], [0.8888888888888888, \"#fdca26\"], [1.0, \"#f0f921\"]], \"type\": \"heatmapgl\"}], \"histogram\": [{\"marker\": {\"colorbar\": {\"outlinewidth\": 0, \"ticks\": \"\"}}, \"type\": \"histogram\"}], \"histogram2d\": [{\"colorbar\": {\"outlinewidth\": 0, \"ticks\": \"\"}, \"colorscale\": [[0.0, \"#0d0887\"], [0.1111111111111111, \"#46039f\"], [0.2222222222222222, \"#7201a8\"], [0.3333333333333333, \"#9c179e\"], [0.4444444444444444, \"#bd3786\"], [0.5555555555555556, \"#d8576b\"], [0.6666666666666666, \"#ed7953\"], [0.7777777777777778, \"#fb9f3a\"], [0.8888888888888888, \"#fdca26\"], [1.0, \"#f0f921\"]], \"type\": \"histogram2d\"}], \"histogram2dcontour\": [{\"colorbar\": {\"outlinewidth\": 0, \"ticks\": \"\"}, \"colorscale\": [[0.0, \"#0d0887\"], [0.1111111111111111, \"#46039f\"], [0.2222222222222222, \"#7201a8\"], [0.3333333333333333, \"#9c179e\"], [0.4444444444444444, \"#bd3786\"], [0.5555555555555556, \"#d8576b\"], [0.6666666666666666, \"#ed7953\"], [0.7777777777777778, \"#fb9f3a\"], [0.8888888888888888, \"#fdca26\"], [1.0, \"#f0f921\"]], \"type\": \"histogram2dcontour\"}], \"mesh3d\": [{\"colorbar\": {\"outlinewidth\": 0, \"ticks\": \"\"}, \"type\": \"mesh3d\"}], \"parcoords\": [{\"line\": {\"colorbar\": {\"outlinewidth\": 0, \"ticks\": \"\"}}, \"type\": \"parcoords\"}], \"pie\": [{\"automargin\": true, \"type\": \"pie\"}], \"scatter\": [{\"marker\": {\"colorbar\": {\"outlinewidth\": 0, \"ticks\": \"\"}}, \"type\": \"scatter\"}], \"scatter3d\": [{\"line\": {\"colorbar\": {\"outlinewidth\": 0, \"ticks\": \"\"}}, \"marker\": {\"colorbar\": {\"outlinewidth\": 0, \"ticks\": \"\"}}, \"type\": \"scatter3d\"}], \"scattercarpet\": [{\"marker\": {\"colorbar\": {\"outlinewidth\": 0, \"ticks\": \"\"}}, \"type\": \"scattercarpet\"}], \"scattergeo\": [{\"marker\": {\"colorbar\": {\"outlinewidth\": 0, \"ticks\": \"\"}}, \"type\": \"scattergeo\"}], \"scattergl\": [{\"marker\": {\"colorbar\": {\"outlinewidth\": 0, \"ticks\": \"\"}}, \"type\": \"scattergl\"}], \"scattermapbox\": [{\"marker\": {\"colorbar\": {\"outlinewidth\": 0, \"ticks\": \"\"}}, \"type\": \"scattermapbox\"}], \"scatterpolar\": [{\"marker\": {\"colorbar\": {\"outlinewidth\": 0, \"ticks\": \"\"}}, \"type\": \"scatterpolar\"}], \"scatterpolargl\": [{\"marker\": {\"colorbar\": {\"outlinewidth\": 0, \"ticks\": \"\"}}, \"type\": \"scatterpolargl\"}], \"scatterternary\": [{\"marker\": {\"colorbar\": {\"outlinewidth\": 0, \"ticks\": \"\"}}, \"type\": \"scatterternary\"}], \"surface\": [{\"colorbar\": {\"outlinewidth\": 0, \"ticks\": \"\"}, \"colorscale\": [[0.0, \"#0d0887\"], [0.1111111111111111, \"#46039f\"], [0.2222222222222222, \"#7201a8\"], [0.3333333333333333, \"#9c179e\"], [0.4444444444444444, \"#bd3786\"], [0.5555555555555556, \"#d8576b\"], [0.6666666666666666, \"#ed7953\"], [0.7777777777777778, \"#fb9f3a\"], [0.8888888888888888, \"#fdca26\"], [1.0, \"#f0f921\"]], \"type\": \"surface\"}], \"table\": [{\"cells\": {\"fill\": {\"color\": \"#EBF0F8\"}, \"line\": {\"color\": \"white\"}}, \"header\": {\"fill\": {\"color\": \"#C8D4E3\"}, \"line\": {\"color\": \"white\"}}, \"type\": \"table\"}]}, \"layout\": {\"annotationdefaults\": {\"arrowcolor\": \"#2a3f5f\", \"arrowhead\": 0, \"arrowwidth\": 1}, \"autotypenumbers\": \"strict\", \"coloraxis\": {\"colorbar\": {\"outlinewidth\": 0, \"ticks\": \"\"}}, \"colorscale\": {\"diverging\": [[0, \"#8e0152\"], [0.1, \"#c51b7d\"], [0.2, \"#de77ae\"], [0.3, \"#f1b6da\"], [0.4, \"#fde0ef\"], [0.5, \"#f7f7f7\"], [0.6, \"#e6f5d0\"], [0.7, \"#b8e186\"], [0.8, \"#7fbc41\"], [0.9, \"#4d9221\"], [1, \"#276419\"]], \"sequential\": [[0.0, \"#0d0887\"], [0.1111111111111111, \"#46039f\"], [0.2222222222222222, \"#7201a8\"], [0.3333333333333333, \"#9c179e\"], [0.4444444444444444, \"#bd3786\"], [0.5555555555555556, \"#d8576b\"], [0.6666666666666666, \"#ed7953\"], [0.7777777777777778, \"#fb9f3a\"], [0.8888888888888888, \"#fdca26\"], [1.0, \"#f0f921\"]], \"sequentialminus\": [[0.0, \"#0d0887\"], [0.1111111111111111, \"#46039f\"], [0.2222222222222222, \"#7201a8\"], [0.3333333333333333, \"#9c179e\"], [0.4444444444444444, \"#bd3786\"], [0.5555555555555556, \"#d8576b\"], [0.6666666666666666, \"#ed7953\"], [0.7777777777777778, \"#fb9f3a\"], [0.8888888888888888, \"#fdca26\"], [1.0, \"#f0f921\"]]}, \"colorway\": [\"#636efa\", \"#EF553B\", \"#00cc96\", \"#ab63fa\", \"#FFA15A\", \"#19d3f3\", \"#FF6692\", \"#B6E880\", \"#FF97FF\", \"#FECB52\"], \"font\": {\"color\": \"#2a3f5f\"}, \"geo\": {\"bgcolor\": \"white\", \"lakecolor\": \"white\", \"landcolor\": \"#E5ECF6\", \"showlakes\": true, \"showland\": true, \"subunitcolor\": \"white\"}, \"hoverlabel\": {\"align\": \"left\"}, \"hovermode\": \"closest\", \"mapbox\": {\"style\": \"light\"}, \"paper_bgcolor\": \"white\", \"plot_bgcolor\": \"#E5ECF6\", \"polar\": {\"angularaxis\": {\"gridcolor\": \"white\", \"linecolor\": \"white\", \"ticks\": \"\"}, \"bgcolor\": \"#E5ECF6\", \"radialaxis\": {\"gridcolor\": \"white\", \"linecolor\": \"white\", \"ticks\": \"\"}}, \"scene\": {\"xaxis\": {\"backgroundcolor\": \"#E5ECF6\", \"gridcolor\": \"white\", \"gridwidth\": 2, \"linecolor\": \"white\", \"showbackground\": true, \"ticks\": \"\", \"zerolinecolor\": \"white\"}, \"yaxis\": {\"backgroundcolor\": \"#E5ECF6\", \"gridcolor\": \"white\", \"gridwidth\": 2, \"linecolor\": \"white\", \"showbackground\": true, \"ticks\": \"\", \"zerolinecolor\": \"white\"}, \"zaxis\": {\"backgroundcolor\": \"#E5ECF6\", \"gridcolor\": \"white\", \"gridwidth\": 2, \"linecolor\": \"white\", \"showbackground\": true, \"ticks\": \"\", \"zerolinecolor\": \"white\"}}, \"shapedefaults\": {\"line\": {\"color\": \"#2a3f5f\"}}, \"ternary\": {\"aaxis\": {\"gridcolor\": \"white\", \"linecolor\": \"white\", \"ticks\": \"\"}, \"baxis\": {\"gridcolor\": \"white\", \"linecolor\": \"white\", \"ticks\": \"\"}, \"bgcolor\": \"#E5ECF6\", \"caxis\": {\"gridcolor\": \"white\", \"linecolor\": \"white\", \"ticks\": \"\"}}, \"title\": {\"x\": 0.05}, \"xaxis\": {\"automargin\": true, \"gridcolor\": \"white\", \"linecolor\": \"white\", \"ticks\": \"\", \"title\": {\"standoff\": 15}, \"zerolinecolor\": \"white\", \"zerolinewidth\": 2}, \"yaxis\": {\"automargin\": true, \"gridcolor\": \"white\", \"linecolor\": \"white\", \"ticks\": \"\", \"title\": {\"standoff\": 15}, \"zerolinecolor\": \"white\", \"zerolinewidth\": 2}}}, \"title\": {\"text\": \"<b>Confirmed cases of Covid-19 per State <b>\", \"x\": 0.5}, \"width\": 850, \"xaxis\": {\"anchor\": \"y\", \"domain\": [0.0, 1.0], \"tickfont\": {\"color\": \"black\", \"family\": \"Rockwell\", \"size\": 14}, \"title\": {\"text\": \"confirmed\"}}, \"yaxis\": {\"anchor\": \"x\", \"domain\": [0.0, 1.0], \"tickfont\": {\"color\": \"black\", \"family\": \"Rockwell\", \"size\": 14}, \"title\": {\"text\": \"state\"}}},                        {\"responsive\": true}                    ).then(function(){\n",
       "                            \n",
       "var gd = document.getElementById('1c8d3124-ebdf-4da0-8748-c5432a8744ab');\n",
       "var x = new MutationObserver(function (mutations, observer) {{\n",
       "        var display = window.getComputedStyle(gd).display;\n",
       "        if (!display || display === 'none') {{\n",
       "            console.log([gd, 'removed!']);\n",
       "            Plotly.purge(gd);\n",
       "            observer.disconnect();\n",
       "        }}\n",
       "}});\n",
       "\n",
       "// Listen for the removal of the full notebook cells\n",
       "var notebookContainer = gd.closest('#notebook-container');\n",
       "if (notebookContainer) {{\n",
       "    x.observe(notebookContainer, {childList: true});\n",
       "}}\n",
       "\n",
       "// Listen for the clearing of the current output cell\n",
       "var outputEl = gd.closest('.output');\n",
       "if (outputEl) {{\n",
       "    x.observe(outputEl, {childList: true});\n",
       "}}\n",
       "\n",
       "                        })                };                });            </script>        </div>"
      ]
     },
     "metadata": {},
     "output_type": "display_data"
    }
   ],
   "source": [
    "#current date\n",
    "today = df[df.date == '2020-07-14']\n",
    "\n",
    "gdf = gpd.read_file('Indian_States.shp')\n",
    "#renaming state names\n",
    "gdf['st_nm'].replace({\"Andaman & Nicobar Island\": \"Andaman and Nicobar Islands\",\n",
    "                      \"Arunanchal Pradesh\": \"Arunachal Pradesh\",\n",
    "                      'Dadara & Nagar Havelli':'Dadra and Nagar Haveli and Daman and Diu',\n",
    "                      'Jammu & Kashmir':'Jammu and Kashmir',\n",
    "                      'NCT of Delhi':'Delhi'}, inplace=True)\n",
    "merged = gdf.merge(today ,  left_on='st_nm', right_on='state')\n",
    "merged.state.replace({\"Andaman and Nicobar Islands\" : \"A & N\",\n",
    "                      'Dadra and Nagar Haveli and Daman and Diu' : 'Daman & Diu',\n",
    "                      'Jammu and Kashmir' : 'J & K'\n",
    "                      }, inplace=True)\n",
    "\n",
    "\n",
    "\n",
    "confirmed = merged.sort_values('confirmed', ascending = True)\n",
    "\n",
    "lowc = confirmed.head(10)\n",
    "highc = confirmed.tail(10)\n",
    "\n",
    "\n",
    "fig = px.bar(confirmed, x=\"confirmed\", y=\"state\", orientation='h', text = 'confirmed')\n",
    "fig.update_layout(\n",
    "    title_text='<b>Confirmed cases of Covid-19 per State <b>',\n",
    "    title_x=0.5,\n",
    "    paper_bgcolor='aqua',\n",
    "    plot_bgcolor = \"aqua\",\n",
    "    autosize=False,\n",
    "    width= 850,\n",
    "    height=850)\n",
    "fig.update_traces(marker_color='teal')\n",
    "fig.update_xaxes(tickfont=dict(family='Rockwell', color='black', size=14))\n",
    "fig.update_yaxes(tickfont=dict(family='Rockwell', color='black', size=14))\n",
    "fig.show()"
   ]
  },
  {
   "cell_type": "markdown",
   "metadata": {},
   "source": [
    "### Effect of lockdown in Delhi state"
   ]
  },
  {
   "cell_type": "code",
   "execution_count": 13,
   "metadata": {},
   "outputs": [
    {
     "data": {
      "text/plain": [
       "Text(08/06/20, 5000, 'Unlock 1.0')"
      ]
     },
     "execution_count": 13,
     "metadata": {},
     "output_type": "execute_result"
    },
    {
     "data": {
      "image/png": "[encoded data removed]",
      "text/plain": [
       "<Figure size 576x576 with 1 Axes>"
      ]
     },
     "metadata": {
      "needs_background": "light"
     },
     "output_type": "display_data"
    }
   ],
   "source": [
    "#df_m = pd.read_csv(\"covid_19_india.csv\")\n",
    "df_m = pd.read_csv(\"covid_19_india.csv\", parse_dates=['Date'],dayfirst=True)\n",
    "df_delhi = df_m[(df_m['State/UnionTerritory']=='Delhi')]\n",
    "plt.figure(figsize=(8,8))\n",
    "plt.plot(df_delhi['Date'],df_delhi['Confirmed'],'-r')\n",
    "plt.rc(\"xtick\",labelsize=9)\n",
    "plt.rc(\"ytick\",labelsize=10)\n",
    "ax = plt.gca()\n",
    "start, end = ax.get_xlim()\n",
    "\n",
    "ax.xaxis.set_ticks(np.arange(start, end, 12))\n",
    "ax.spines['right'].set_visible(False)\n",
    "ax.spines['top'].set_visible(False)\n",
    "plt.xticks(rotation=45)\n",
    "plt.xlabel('Dates')\n",
    "plt.ylabel('Confirmed Cases')\n",
    "plt.title('Lockdown effect on confirmed cases')\n",
    "ax.annotate('Lockdown1', xy =('23/03/20',29), xytext=('23/03/20',15000),ha='center',\n",
    "                arrowprops = dict(facecolor ='Violet',shrink = 0.05),) \n",
    "ax.annotate('Lockdown 2', xy =('15/04/20',1561), xytext=('15/04/20',25000),ha='center',\n",
    "                arrowprops = dict(facecolor ='Red',shrink = 0.05),) \n",
    "ax.annotate('Lockdown 3', xy =('04/05/20',4549), xytext=('04/05/20',35000),ha='center', \n",
    "                arrowprops = dict(facecolor ='Yellow',shrink = 0.05),) \n",
    "ax.annotate('Lockdown 4', xy =('18/05/20',10054), xytext=('18/05/20',45000),ha='center',\n",
    "                arrowprops = dict(facecolor ='Black',shrink = 0.05),) \n",
    "ax.annotate('Unlock 1.0', xy =('08/06/20',27654), xytext=('08/06/20',5000),ha='center',\n",
    "                arrowprops = dict(facecolor ='Green',shrink = 0.05),) "
   ]
  },
  {
   "cell_type": "code",
   "execution_count": 14,
   "metadata": {},
   "outputs": [
    {
     "data": {
      "text/html": [
       "<div>\n",
       "<style scoped>\n",
       "    .dataframe tbody tr th:only-of-type {\n",
       "        vertical-align: middle;\n",
       "    }\n",
       "\n",
       "    .dataframe tbody tr th {\n",
       "        vertical-align: top;\n",
       "    }\n",
       "\n",
       "    .dataframe thead th {\n",
       "        text-align: right;\n",
       "    }\n",
       "</style>\n",
       "<table border=\"1\" class=\"dataframe\">\n",
       "  <thead>\n",
       "    <tr style=\"text-align: right;\">\n",
       "      <th></th>\n",
       "      <th>index</th>\n",
       "      <th>Sno</th>\n",
       "      <th>Date</th>\n",
       "      <th>Time</th>\n",
       "      <th>State/UnionTerritory</th>\n",
       "      <th>ConfirmedIndianNational</th>\n",
       "      <th>ConfirmedForeignNational</th>\n",
       "      <th>Cured</th>\n",
       "      <th>Deaths</th>\n",
       "      <th>Confirmed</th>\n",
       "      <th>minday</th>\n",
       "      <th>days</th>\n",
       "    </tr>\n",
       "  </thead>\n",
       "  <tbody>\n",
       "    <tr>\n",
       "      <td>0</td>\n",
       "      <td>34</td>\n",
       "      <td>35</td>\n",
       "      <td>2020-03-02</td>\n",
       "      <td>6:00 PM</td>\n",
       "      <td>Delhi</td>\n",
       "      <td>1</td>\n",
       "      <td>0</td>\n",
       "      <td>0</td>\n",
       "      <td>0</td>\n",
       "      <td>1</td>\n",
       "      <td>2020-03-02</td>\n",
       "      <td>0</td>\n",
       "    </tr>\n",
       "    <tr>\n",
       "      <td>1</td>\n",
       "      <td>38</td>\n",
       "      <td>39</td>\n",
       "      <td>2020-03-03</td>\n",
       "      <td>6:00 PM</td>\n",
       "      <td>Delhi</td>\n",
       "      <td>1</td>\n",
       "      <td>0</td>\n",
       "      <td>0</td>\n",
       "      <td>0</td>\n",
       "      <td>1</td>\n",
       "      <td>2020-03-02</td>\n",
       "      <td>1</td>\n",
       "    </tr>\n",
       "    <tr>\n",
       "      <td>2</td>\n",
       "      <td>42</td>\n",
       "      <td>43</td>\n",
       "      <td>2020-03-04</td>\n",
       "      <td>6:00 PM</td>\n",
       "      <td>Delhi</td>\n",
       "      <td>1</td>\n",
       "      <td>0</td>\n",
       "      <td>0</td>\n",
       "      <td>0</td>\n",
       "      <td>1</td>\n",
       "      <td>2020-03-02</td>\n",
       "      <td>2</td>\n",
       "    </tr>\n",
       "    <tr>\n",
       "      <td>3</td>\n",
       "      <td>45</td>\n",
       "      <td>46</td>\n",
       "      <td>2020-03-05</td>\n",
       "      <td>6:00 PM</td>\n",
       "      <td>Delhi</td>\n",
       "      <td>2</td>\n",
       "      <td>0</td>\n",
       "      <td>0</td>\n",
       "      <td>0</td>\n",
       "      <td>2</td>\n",
       "      <td>2020-03-02</td>\n",
       "      <td>3</td>\n",
       "    </tr>\n",
       "    <tr>\n",
       "      <td>4</td>\n",
       "      <td>51</td>\n",
       "      <td>52</td>\n",
       "      <td>2020-03-06</td>\n",
       "      <td>6:00 PM</td>\n",
       "      <td>Delhi</td>\n",
       "      <td>3</td>\n",
       "      <td>0</td>\n",
       "      <td>0</td>\n",
       "      <td>0</td>\n",
       "      <td>3</td>\n",
       "      <td>2020-03-02</td>\n",
       "      <td>4</td>\n",
       "    </tr>\n",
       "    <tr>\n",
       "      <td>...</td>\n",
       "      <td>...</td>\n",
       "      <td>...</td>\n",
       "      <td>...</td>\n",
       "      <td>...</td>\n",
       "      <td>...</td>\n",
       "      <td>...</td>\n",
       "      <td>...</td>\n",
       "      <td>...</td>\n",
       "      <td>...</td>\n",
       "      <td>...</td>\n",
       "      <td>...</td>\n",
       "      <td>...</td>\n",
       "    </tr>\n",
       "    <tr>\n",
       "      <td>278</td>\n",
       "      <td>9124</td>\n",
       "      <td>9125</td>\n",
       "      <td>2020-12-05</td>\n",
       "      <td>8:00 AM</td>\n",
       "      <td>Delhi</td>\n",
       "      <td>-</td>\n",
       "      <td>-</td>\n",
       "      <td>548376</td>\n",
       "      <td>9497</td>\n",
       "      <td>586125</td>\n",
       "      <td>2020-03-02</td>\n",
       "      <td>278</td>\n",
       "    </tr>\n",
       "    <tr>\n",
       "      <td>279</td>\n",
       "      <td>9159</td>\n",
       "      <td>9160</td>\n",
       "      <td>2020-12-06</td>\n",
       "      <td>8:00 AM</td>\n",
       "      <td>Delhi</td>\n",
       "      <td>-</td>\n",
       "      <td>-</td>\n",
       "      <td>553292</td>\n",
       "      <td>9574</td>\n",
       "      <td>589544</td>\n",
       "      <td>2020-03-02</td>\n",
       "      <td>279</td>\n",
       "    </tr>\n",
       "    <tr>\n",
       "      <td>280</td>\n",
       "      <td>9194</td>\n",
       "      <td>9195</td>\n",
       "      <td>2020-12-07</td>\n",
       "      <td>8:00 AM</td>\n",
       "      <td>Delhi</td>\n",
       "      <td>-</td>\n",
       "      <td>-</td>\n",
       "      <td>557914</td>\n",
       "      <td>9643</td>\n",
       "      <td>592250</td>\n",
       "      <td>2020-03-02</td>\n",
       "      <td>280</td>\n",
       "    </tr>\n",
       "    <tr>\n",
       "      <td>281</td>\n",
       "      <td>9229</td>\n",
       "      <td>9230</td>\n",
       "      <td>2020-12-08</td>\n",
       "      <td>8:00 AM</td>\n",
       "      <td>Delhi</td>\n",
       "      <td>-</td>\n",
       "      <td>-</td>\n",
       "      <td>561732</td>\n",
       "      <td>9706</td>\n",
       "      <td>593924</td>\n",
       "      <td>2020-03-02</td>\n",
       "      <td>281</td>\n",
       "    </tr>\n",
       "    <tr>\n",
       "      <td>282</td>\n",
       "      <td>9264</td>\n",
       "      <td>9265</td>\n",
       "      <td>2020-12-09</td>\n",
       "      <td>8:00 AM</td>\n",
       "      <td>Delhi</td>\n",
       "      <td>-</td>\n",
       "      <td>-</td>\n",
       "      <td>565039</td>\n",
       "      <td>9763</td>\n",
       "      <td>597112</td>\n",
       "      <td>2020-03-02</td>\n",
       "      <td>282</td>\n",
       "    </tr>\n",
       "  </tbody>\n",
       "</table>\n",
       "<p>283 rows × 12 columns</p>\n",
       "</div>"
      ],
      "text/plain": [
       "     index   Sno       Date     Time State/UnionTerritory  \\\n",
       "0       34    35 2020-03-02  6:00 PM                Delhi   \n",
       "1       38    39 2020-03-03  6:00 PM                Delhi   \n",
       "2       42    43 2020-03-04  6:00 PM                Delhi   \n",
       "3       45    46 2020-03-05  6:00 PM                Delhi   \n",
       "4       51    52 2020-03-06  6:00 PM                Delhi   \n",
       "..     ...   ...        ...      ...                  ...   \n",
       "278   9124  9125 2020-12-05  8:00 AM                Delhi   \n",
       "279   9159  9160 2020-12-06  8:00 AM                Delhi   \n",
       "280   9194  9195 2020-12-07  8:00 AM                Delhi   \n",
       "281   9229  9230 2020-12-08  8:00 AM                Delhi   \n",
       "282   9264  9265 2020-12-09  8:00 AM                Delhi   \n",
       "\n",
       "    ConfirmedIndianNational ConfirmedForeignNational   Cured  Deaths  \\\n",
       "0                         1                        0       0       0   \n",
       "1                         1                        0       0       0   \n",
       "2                         1                        0       0       0   \n",
       "3                         2                        0       0       0   \n",
       "4                         3                        0       0       0   \n",
       "..                      ...                      ...     ...     ...   \n",
       "278                       -                        -  548376    9497   \n",
       "279                       -                        -  553292    9574   \n",
       "280                       -                        -  557914    9643   \n",
       "281                       -                        -  561732    9706   \n",
       "282                       -                        -  565039    9763   \n",
       "\n",
       "     Confirmed     minday days  \n",
       "0            1 2020-03-02    0  \n",
       "1            1 2020-03-02    1  \n",
       "2            1 2020-03-02    2  \n",
       "3            2 2020-03-02    3  \n",
       "4            3 2020-03-02    4  \n",
       "..         ...        ...  ...  \n",
       "278     586125 2020-03-02  278  \n",
       "279     589544 2020-03-02  279  \n",
       "280     592250 2020-03-02  280  \n",
       "281     593924 2020-03-02  281  \n",
       "282     597112 2020-03-02  282  \n",
       "\n",
       "[283 rows x 12 columns]"
      ]
     },
     "execution_count": 14,
     "metadata": {},
     "output_type": "execute_result"
    }
   ],
   "source": [
    "df_delhi.reset_index(inplace=True)\n",
    "df_delhi['minday']=df_delhi['Date'].min()\n",
    "df_delhi['days']=pd.Series(int)\n",
    "for i in range(len(df_delhi)):\n",
    "    df_delhi['days'][i]=(df_delhi['Date'][i]-df_delhi['minday'][i]).days\n",
    "df_delhi"
   ]
  },
  {
   "cell_type": "markdown",
   "metadata": {},
   "source": [
    "### Considering the confirmed cases in Delhi during Phase 2 of lockdown - 15 April 2020 – 3 May 2020 (19 days)"
   ]
  },
  {
   "cell_type": "code",
   "execution_count": 15,
   "metadata": {},
   "outputs": [
    {
     "data": {
      "text/html": [
       "<div>\n",
       "<style scoped>\n",
       "    .dataframe tbody tr th:only-of-type {\n",
       "        vertical-align: middle;\n",
       "    }\n",
       "\n",
       "    .dataframe tbody tr th {\n",
       "        vertical-align: top;\n",
       "    }\n",
       "\n",
       "    .dataframe thead th {\n",
       "        text-align: right;\n",
       "    }\n",
       "</style>\n",
       "<table border=\"1\" class=\"dataframe\">\n",
       "  <thead>\n",
       "    <tr style=\"text-align: right;\">\n",
       "      <th></th>\n",
       "      <th>index</th>\n",
       "      <th>Sno</th>\n",
       "      <th>Date</th>\n",
       "      <th>Time</th>\n",
       "      <th>State/UnionTerritory</th>\n",
       "      <th>ConfirmedIndianNational</th>\n",
       "      <th>ConfirmedForeignNational</th>\n",
       "      <th>Cured</th>\n",
       "      <th>Deaths</th>\n",
       "      <th>Confirmed</th>\n",
       "      <th>minday</th>\n",
       "      <th>days</th>\n",
       "    </tr>\n",
       "  </thead>\n",
       "  <tbody>\n",
       "    <tr>\n",
       "      <td>44</td>\n",
       "      <td>966</td>\n",
       "      <td>967</td>\n",
       "      <td>2020-04-15</td>\n",
       "      <td>5:00 PM</td>\n",
       "      <td>Delhi</td>\n",
       "      <td>-</td>\n",
       "      <td>-</td>\n",
       "      <td>30</td>\n",
       "      <td>30</td>\n",
       "      <td>1561</td>\n",
       "      <td>2020-03-02</td>\n",
       "      <td>44</td>\n",
       "    </tr>\n",
       "    <tr>\n",
       "      <td>45</td>\n",
       "      <td>999</td>\n",
       "      <td>1000</td>\n",
       "      <td>2020-04-16</td>\n",
       "      <td>5:00 PM</td>\n",
       "      <td>Delhi</td>\n",
       "      <td>-</td>\n",
       "      <td>-</td>\n",
       "      <td>42</td>\n",
       "      <td>32</td>\n",
       "      <td>1578</td>\n",
       "      <td>2020-03-02</td>\n",
       "      <td>45</td>\n",
       "    </tr>\n",
       "    <tr>\n",
       "      <td>46</td>\n",
       "      <td>1032</td>\n",
       "      <td>1033</td>\n",
       "      <td>2020-04-17</td>\n",
       "      <td>5:00 PM</td>\n",
       "      <td>Delhi</td>\n",
       "      <td>-</td>\n",
       "      <td>-</td>\n",
       "      <td>51</td>\n",
       "      <td>38</td>\n",
       "      <td>1640</td>\n",
       "      <td>2020-03-02</td>\n",
       "      <td>46</td>\n",
       "    </tr>\n",
       "    <tr>\n",
       "      <td>47</td>\n",
       "      <td>1065</td>\n",
       "      <td>1066</td>\n",
       "      <td>2020-04-18</td>\n",
       "      <td>5:00 PM</td>\n",
       "      <td>Delhi</td>\n",
       "      <td>-</td>\n",
       "      <td>-</td>\n",
       "      <td>72</td>\n",
       "      <td>42</td>\n",
       "      <td>1707</td>\n",
       "      <td>2020-03-02</td>\n",
       "      <td>47</td>\n",
       "    </tr>\n",
       "    <tr>\n",
       "      <td>48</td>\n",
       "      <td>1098</td>\n",
       "      <td>1099</td>\n",
       "      <td>2020-04-19</td>\n",
       "      <td>5:00 PM</td>\n",
       "      <td>Delhi</td>\n",
       "      <td>-</td>\n",
       "      <td>-</td>\n",
       "      <td>72</td>\n",
       "      <td>43</td>\n",
       "      <td>1893</td>\n",
       "      <td>2020-03-02</td>\n",
       "      <td>48</td>\n",
       "    </tr>\n",
       "    <tr>\n",
       "      <td>49</td>\n",
       "      <td>1131</td>\n",
       "      <td>1132</td>\n",
       "      <td>2020-04-20</td>\n",
       "      <td>5:00 PM</td>\n",
       "      <td>Delhi</td>\n",
       "      <td>-</td>\n",
       "      <td>-</td>\n",
       "      <td>290</td>\n",
       "      <td>45</td>\n",
       "      <td>2003</td>\n",
       "      <td>2020-03-02</td>\n",
       "      <td>49</td>\n",
       "    </tr>\n",
       "    <tr>\n",
       "      <td>50</td>\n",
       "      <td>1164</td>\n",
       "      <td>1165</td>\n",
       "      <td>2020-04-21</td>\n",
       "      <td>5:00 PM</td>\n",
       "      <td>Delhi</td>\n",
       "      <td>-</td>\n",
       "      <td>-</td>\n",
       "      <td>431</td>\n",
       "      <td>47</td>\n",
       "      <td>2081</td>\n",
       "      <td>2020-03-02</td>\n",
       "      <td>50</td>\n",
       "    </tr>\n",
       "    <tr>\n",
       "      <td>51</td>\n",
       "      <td>1197</td>\n",
       "      <td>1198</td>\n",
       "      <td>2020-04-22</td>\n",
       "      <td>5:00 PM</td>\n",
       "      <td>Delhi</td>\n",
       "      <td>-</td>\n",
       "      <td>-</td>\n",
       "      <td>611</td>\n",
       "      <td>47</td>\n",
       "      <td>2156</td>\n",
       "      <td>2020-03-02</td>\n",
       "      <td>51</td>\n",
       "    </tr>\n",
       "    <tr>\n",
       "      <td>52</td>\n",
       "      <td>1229</td>\n",
       "      <td>1230</td>\n",
       "      <td>2020-04-23</td>\n",
       "      <td>5:00 PM</td>\n",
       "      <td>Delhi</td>\n",
       "      <td>-</td>\n",
       "      <td>-</td>\n",
       "      <td>724</td>\n",
       "      <td>48</td>\n",
       "      <td>2248</td>\n",
       "      <td>2020-03-02</td>\n",
       "      <td>52</td>\n",
       "    </tr>\n",
       "    <tr>\n",
       "      <td>53</td>\n",
       "      <td>1261</td>\n",
       "      <td>1262</td>\n",
       "      <td>2020-04-24</td>\n",
       "      <td>5:00 PM</td>\n",
       "      <td>Delhi</td>\n",
       "      <td>-</td>\n",
       "      <td>-</td>\n",
       "      <td>808</td>\n",
       "      <td>50</td>\n",
       "      <td>2376</td>\n",
       "      <td>2020-03-02</td>\n",
       "      <td>53</td>\n",
       "    </tr>\n",
       "    <tr>\n",
       "      <td>54</td>\n",
       "      <td>1293</td>\n",
       "      <td>1294</td>\n",
       "      <td>2020-04-25</td>\n",
       "      <td>5:00 PM</td>\n",
       "      <td>Delhi</td>\n",
       "      <td>-</td>\n",
       "      <td>-</td>\n",
       "      <td>857</td>\n",
       "      <td>53</td>\n",
       "      <td>2514</td>\n",
       "      <td>2020-03-02</td>\n",
       "      <td>54</td>\n",
       "    </tr>\n",
       "    <tr>\n",
       "      <td>55</td>\n",
       "      <td>1325</td>\n",
       "      <td>1326</td>\n",
       "      <td>2020-04-26</td>\n",
       "      <td>5:00 PM</td>\n",
       "      <td>Delhi</td>\n",
       "      <td>-</td>\n",
       "      <td>-</td>\n",
       "      <td>869</td>\n",
       "      <td>54</td>\n",
       "      <td>2625</td>\n",
       "      <td>2020-03-02</td>\n",
       "      <td>55</td>\n",
       "    </tr>\n",
       "    <tr>\n",
       "      <td>56</td>\n",
       "      <td>1357</td>\n",
       "      <td>1358</td>\n",
       "      <td>2020-04-27</td>\n",
       "      <td>5:00 PM</td>\n",
       "      <td>Delhi</td>\n",
       "      <td>-</td>\n",
       "      <td>-</td>\n",
       "      <td>877</td>\n",
       "      <td>54</td>\n",
       "      <td>2918</td>\n",
       "      <td>2020-03-02</td>\n",
       "      <td>56</td>\n",
       "    </tr>\n",
       "    <tr>\n",
       "      <td>57</td>\n",
       "      <td>1389</td>\n",
       "      <td>1390</td>\n",
       "      <td>2020-04-28</td>\n",
       "      <td>5:00 PM</td>\n",
       "      <td>Delhi</td>\n",
       "      <td>-</td>\n",
       "      <td>-</td>\n",
       "      <td>877</td>\n",
       "      <td>54</td>\n",
       "      <td>3108</td>\n",
       "      <td>2020-03-02</td>\n",
       "      <td>57</td>\n",
       "    </tr>\n",
       "    <tr>\n",
       "      <td>58</td>\n",
       "      <td>1421</td>\n",
       "      <td>1422</td>\n",
       "      <td>2020-04-29</td>\n",
       "      <td>5:00 PM</td>\n",
       "      <td>Delhi</td>\n",
       "      <td>-</td>\n",
       "      <td>-</td>\n",
       "      <td>1078</td>\n",
       "      <td>54</td>\n",
       "      <td>3314</td>\n",
       "      <td>2020-03-02</td>\n",
       "      <td>58</td>\n",
       "    </tr>\n",
       "    <tr>\n",
       "      <td>59</td>\n",
       "      <td>1453</td>\n",
       "      <td>1454</td>\n",
       "      <td>2020-04-30</td>\n",
       "      <td>5:00 PM</td>\n",
       "      <td>Delhi</td>\n",
       "      <td>-</td>\n",
       "      <td>-</td>\n",
       "      <td>1092</td>\n",
       "      <td>56</td>\n",
       "      <td>3439</td>\n",
       "      <td>2020-03-02</td>\n",
       "      <td>59</td>\n",
       "    </tr>\n",
       "    <tr>\n",
       "      <td>60</td>\n",
       "      <td>1485</td>\n",
       "      <td>1486</td>\n",
       "      <td>2020-05-01</td>\n",
       "      <td>5:00 PM</td>\n",
       "      <td>Delhi</td>\n",
       "      <td>-</td>\n",
       "      <td>-</td>\n",
       "      <td>1094</td>\n",
       "      <td>59</td>\n",
       "      <td>3515</td>\n",
       "      <td>2020-03-02</td>\n",
       "      <td>60</td>\n",
       "    </tr>\n",
       "    <tr>\n",
       "      <td>61</td>\n",
       "      <td>1517</td>\n",
       "      <td>1518</td>\n",
       "      <td>2020-05-02</td>\n",
       "      <td>5:00 PM</td>\n",
       "      <td>Delhi</td>\n",
       "      <td>-</td>\n",
       "      <td>-</td>\n",
       "      <td>1167</td>\n",
       "      <td>61</td>\n",
       "      <td>3738</td>\n",
       "      <td>2020-03-02</td>\n",
       "      <td>61</td>\n",
       "    </tr>\n",
       "    <tr>\n",
       "      <td>62</td>\n",
       "      <td>1549</td>\n",
       "      <td>1550</td>\n",
       "      <td>2020-05-03</td>\n",
       "      <td>5:00 PM</td>\n",
       "      <td>Delhi</td>\n",
       "      <td>-</td>\n",
       "      <td>-</td>\n",
       "      <td>1256</td>\n",
       "      <td>64</td>\n",
       "      <td>4122</td>\n",
       "      <td>2020-03-02</td>\n",
       "      <td>62</td>\n",
       "    </tr>\n",
       "  </tbody>\n",
       "</table>\n",
       "</div>"
      ],
      "text/plain": [
       "    index   Sno       Date     Time State/UnionTerritory  \\\n",
       "44    966   967 2020-04-15  5:00 PM                Delhi   \n",
       "45    999  1000 2020-04-16  5:00 PM                Delhi   \n",
       "46   1032  1033 2020-04-17  5:00 PM                Delhi   \n",
       "47   1065  1066 2020-04-18  5:00 PM                Delhi   \n",
       "48   1098  1099 2020-04-19  5:00 PM                Delhi   \n",
       "49   1131  1132 2020-04-20  5:00 PM                Delhi   \n",
       "50   1164  1165 2020-04-21  5:00 PM                Delhi   \n",
       "51   1197  1198 2020-04-22  5:00 PM                Delhi   \n",
       "52   1229  1230 2020-04-23  5:00 PM                Delhi   \n",
       "53   1261  1262 2020-04-24  5:00 PM                Delhi   \n",
       "54   1293  1294 2020-04-25  5:00 PM                Delhi   \n",
       "55   1325  1326 2020-04-26  5:00 PM                Delhi   \n",
       "56   1357  1358 2020-04-27  5:00 PM                Delhi   \n",
       "57   1389  1390 2020-04-28  5:00 PM                Delhi   \n",
       "58   1421  1422 2020-04-29  5:00 PM                Delhi   \n",
       "59   1453  1454 2020-04-30  5:00 PM                Delhi   \n",
       "60   1485  1486 2020-05-01  5:00 PM                Delhi   \n",
       "61   1517  1518 2020-05-02  5:00 PM                Delhi   \n",
       "62   1549  1550 2020-05-03  5:00 PM                Delhi   \n",
       "\n",
       "   ConfirmedIndianNational ConfirmedForeignNational  Cured  Deaths  Confirmed  \\\n",
       "44                       -                        -     30      30       1561   \n",
       "45                       -                        -     42      32       1578   \n",
       "46                       -                        -     51      38       1640   \n",
       "47                       -                        -     72      42       1707   \n",
       "48                       -                        -     72      43       1893   \n",
       "49                       -                        -    290      45       2003   \n",
       "50                       -                        -    431      47       2081   \n",
       "51                       -                        -    611      47       2156   \n",
       "52                       -                        -    724      48       2248   \n",
       "53                       -                        -    808      50       2376   \n",
       "54                       -                        -    857      53       2514   \n",
       "55                       -                        -    869      54       2625   \n",
       "56                       -                        -    877      54       2918   \n",
       "57                       -                        -    877      54       3108   \n",
       "58                       -                        -   1078      54       3314   \n",
       "59                       -                        -   1092      56       3439   \n",
       "60                       -                        -   1094      59       3515   \n",
       "61                       -                        -   1167      61       3738   \n",
       "62                       -                        -   1256      64       4122   \n",
       "\n",
       "       minday days  \n",
       "44 2020-03-02   44  \n",
       "45 2020-03-02   45  \n",
       "46 2020-03-02   46  \n",
       "47 2020-03-02   47  \n",
       "48 2020-03-02   48  \n",
       "49 2020-03-02   49  \n",
       "50 2020-03-02   50  \n",
       "51 2020-03-02   51  \n",
       "52 2020-03-02   52  \n",
       "53 2020-03-02   53  \n",
       "54 2020-03-02   54  \n",
       "55 2020-03-02   55  \n",
       "56 2020-03-02   56  \n",
       "57 2020-03-02   57  \n",
       "58 2020-03-02   58  \n",
       "59 2020-03-02   59  \n",
       "60 2020-03-02   60  \n",
       "61 2020-03-02   61  \n",
       "62 2020-03-02   62  "
      ]
     },
     "execution_count": 15,
     "metadata": {},
     "output_type": "execute_result"
    }
   ],
   "source": [
    "df_delhi_c=pd.DataFrame()\n",
    "df_delhi_c=df_delhi[df_delhi['days'].between(44,62)]\n",
    "df_delhi_c"
   ]
  },
  {
   "cell_type": "code",
   "execution_count": 16,
   "metadata": {},
   "outputs": [],
   "source": [
    "C1 = np.array(df_delhi_c['Confirmed'])"
   ]
  },
  {
   "cell_type": "code",
   "execution_count": 17,
   "metadata": {},
   "outputs": [
    {
     "name": "stdout",
     "output_type": "stream",
     "text": [
      "Reported Confirmed Cases in Delhi :  [1561 1578 1640 1707 1893 2003 2081 2156 2248 2376 2514 2625 2918 3108\n",
      " 3314 3439 3515 3738 4122]\n"
     ]
    }
   ],
   "source": [
    "print (\"Reported Confirmed Cases in Delhi : \", C1)"
   ]
  },
  {
   "cell_type": "markdown",
   "metadata": {},
   "source": [
    "### Modeling for Delhi using SIR Model"
   ]
  },
  {
   "cell_type": "code",
   "execution_count": 18,
   "metadata": {},
   "outputs": [
    {
     "data": {
      "image/png": "[encoded data removed]",
      "text/plain": [
       "<Figure size 432x288 with 1 Axes>"
      ]
     },
     "metadata": {},
     "output_type": "display_data"
    }
   ],
   "source": [
    "# Total population of Delhi, N.\n",
    "N = 380500  #0.02*19025023\n",
    "# Initial number of infected and recovered individuals, I0 and R0.\n",
    "I0, R0 = 1, 0\n",
    "# Everyone else, S0, is susceptible to infection initially.\n",
    "S0 = N - I0 - R0\n",
    "# Contact rate, beta, and mean recovery rate, gamma, (in 1/days).\n",
    "beta, gamma = 5, 1./14 \n",
    "# A grid of time points (in days)\n",
    "t = np.linspace(0, 160, 160)\n",
    "\n",
    "# The SIR model differential equations.\n",
    "def deriv(y, t, N, beta, gamma):\n",
    "    S, I, R = y\n",
    "    dSdt = -beta * S * I / N\n",
    "    dIdt = beta * S * I / N - gamma * I\n",
    "    dRdt = gamma * I\n",
    "    return dSdt, dIdt, dRdt\n",
    "\n",
    "# Initial conditions vector\n",
    "y0 = S0, I0, R0\n",
    "# Integrate the SIR equations over the time grid, t.\n",
    "ret = odeint(deriv, y0, t, args=(N, beta, gamma))\n",
    "S, I, R = ret.T\n",
    "\n",
    "# Plot the data on three separate curves for S(t), I(t) and R(t)\n",
    "fig = plt.figure(facecolor='w')\n",
    "ax = fig.add_subplot(111, facecolor='#dddddd', axisbelow=True)\n",
    "ax.plot(t, S/1000, 'b', alpha=0.5, lw=2, label='Susceptible')\n",
    "ax.plot(t, I/1000, 'r', alpha=0.5, lw=2, label='Infected')\n",
    "ax.plot(t, R/1000, 'g', alpha=0.5, lw=2, label='Recovered with immunity')\n",
    "ax.set_xlabel('Time /days')\n",
    "ax.set_ylabel('Number (1000s)')\n",
    "ax.set_ylim(0,500)\n",
    "ax.yaxis.set_tick_params(length=0)\n",
    "ax.xaxis.set_tick_params(length=0)\n",
    "ax.grid(b=True, which='major', c='w', lw=2, ls='-')\n",
    "legend = ax.legend()\n",
    "legend.get_frame().set_alpha(0.5)\n",
    "for spine in ('top', 'right', 'bottom', 'left'):\n",
    "    ax.spines[spine].set_visible(False)\n",
    "plt.show()"
   ]
  },
  {
   "cell_type": "code",
   "execution_count": 19,
   "metadata": {},
   "outputs": [
    {
     "name": "stdout",
     "output_type": "stream",
     "text": [
      "Infected (I) : [1.00000000e+00 1.42477816e+02 1.92571326e+04 3.24029955e+05\n",
      " 3.43504164e+05 3.20107964e+05 2.97912048e+05 2.77250329e+05\n",
      " 2.58021526e+05 2.40126341e+05 2.23472285e+05 2.07973278e+05\n",
      " 1.93549208e+05 1.80125526e+05 1.67632849e+05 1.56006606e+05\n",
      " 1.45186706e+05 1.35117225e+05 1.25746116e+05 1.17024944e+05\n",
      " 1.08908633e+05 1.01355232e+05 9.43257001e+04 8.77837034e+04\n",
      " 8.16954293e+04 7.60294100e+04 7.07563595e+04 6.58490253e+04\n",
      " 6.12820402e+04 5.70318004e+04 5.30763374e+04 4.93952072e+04\n",
      " 4.59693832e+04 4.27811591e+04 3.98140549e+04 3.70527350e+04\n",
      " 3.44829281e+04 3.20913510e+04 2.98656427e+04 2.77942993e+04\n",
      " 2.58666147e+04 2.40726254e+04 2.24030590e+04 2.08492860e+04\n",
      " 1.94032756e+04 1.80575537e+04 1.68051649e+04 1.56396360e+04\n",
      " 1.45549429e+04 1.35454791e+04 1.26060270e+04 1.17317310e+04\n",
      " 1.09180722e+04 1.01608449e+04 9.45613551e+03 8.80030149e+03\n",
      " 8.18995309e+03 7.62193567e+03 7.09331337e+03 6.60135384e+03\n",
      " 6.14351438e+03 5.71742852e+03 5.32089403e+03 4.95186133e+03\n",
      " 4.60842304e+03 4.28880405e+03 3.99135236e+03 3.71453055e+03\n",
      " 3.45690782e+03 3.21715262e+03 2.99402574e+03 2.78637391e+03\n",
      " 2.59312385e+03 2.41327673e+03 2.24590297e+03 2.09013749e+03\n",
      " 1.94517518e+03 1.81026680e+03 1.68471503e+03 1.56787096e+03\n",
      " 1.45913065e+03 1.35793208e+03 1.26375216e+03 1.17610414e+03\n",
      " 1.09453497e+03 1.01862307e+03 9.47976066e+02 8.82228815e+02\n",
      " 8.21041488e+02 7.64097834e+02 7.11103528e+02 6.61784665e+02\n",
      " 6.15886329e+02 5.73171291e+02 5.33418771e+02 4.96423303e+02\n",
      " 4.61993670e+02 4.29951918e+02 4.00132433e+02 3.72381092e+02\n",
      " 3.46554455e+02 3.22519035e+02 3.00150600e+02 2.79333538e+02\n",
      " 2.59960250e+02 2.41930605e+02 2.25151413e+02 2.09535949e+02\n",
      " 1.95003501e+02 1.81478956e+02 1.68892412e+02 1.57178813e+02\n",
      " 1.46277614e+02 1.36132473e+02 1.26690952e+02 1.17904251e+02\n",
      " 1.09726955e+02 1.02116799e+02 9.50344487e+01 8.84432973e+01\n",
      " 8.23092776e+01 7.66006854e+01 7.12880147e+01 6.63438065e+01\n",
      " 6.17425058e+01 5.74603301e+01 5.34751463e+01 4.97663566e+01\n",
      " 4.63147913e+01 4.31026108e+01 4.01132123e+01 3.73311448e+01\n",
      " 3.47420285e+01 3.23324815e+01 3.00900496e+01 2.80031424e+01\n",
      " 2.60609734e+01 2.42535044e+01 2.25713931e+01 2.10059453e+01\n",
      " 1.95490697e+01 1.81932363e+01 1.69314372e+01 1.57571508e+01\n",
      " 1.46643074e+01 1.36472586e+01 1.27007476e+01 1.18198823e+01\n",
      " 1.10001097e+01 1.02371928e+01 9.52718825e+00 8.86642637e+00\n",
      " 8.25149189e+00 7.67920643e+00 7.14661205e+00 6.65095597e+00\n",
      " 6.18967631e+00 5.76038888e+00 5.36087484e+00 4.98906927e+00]\n"
     ]
    }
   ],
   "source": [
    "print('Infected (I) :' , I)"
   ]
  },
  {
   "cell_type": "code",
   "execution_count": 20,
   "metadata": {},
   "outputs": [
    {
     "name": "stdout",
     "output_type": "stream",
     "text": [
      "Confirmed cases in Delhi as per SIR Model :  [19403.27556302 18057.55367005 16805.16490004 15639.63603503\n",
      " 14554.94287586 13545.47906075 12606.02698556 11731.73099718\n",
      " 10918.0721534  10160.84492503  9456.13551095  8800.30148623\n",
      "  8189.95309412  7621.93566884  7093.31336607  6601.35384479\n",
      "  6143.51438001  5717.42852453  5320.89402698]\n"
     ]
    }
   ],
   "source": [
    "C2 = I[44:63]\n",
    "print (\"Confirmed cases in Delhi as per SIR Model : \", C2)"
   ]
  },
  {
   "cell_type": "markdown",
   "metadata": {},
   "source": [
    "### Applying statistical test on the 2 arrays\n",
    "#### Array 1 : Actual confirmed cases in Delhi during phase 2 of lockdown (C1)\n",
    "#### Array 2 : Confirmed cases in Delhi during phase 2 of lockdown as per SIR Model (C2)"
   ]
  },
  {
   "cell_type": "code",
   "execution_count": 21,
   "metadata": {},
   "outputs": [
    {
     "data": {
      "text/plain": [
       "Ttest_indResult(statistic=-8.259218665324049, pvalue=7.900905008917124e-10)"
      ]
     },
     "execution_count": 21,
     "metadata": {},
     "output_type": "execute_result"
    }
   ],
   "source": [
    "stats.ttest_ind(C1, C2)"
   ]
  },
  {
   "cell_type": "markdown",
   "metadata": {},
   "source": [
    "### H-null = "
   ]
  },
  {
   "cell_type": "code",
   "execution_count": 22,
   "metadata": {},
   "outputs": [
    {
     "data": {
      "image/png": "[encoded data removed]",
      "text/plain": [
       "<Figure size 432x288 with 1 Axes>"
      ]
     },
     "metadata": {
      "needs_background": "light"
     },
     "output_type": "display_data"
    }
   ],
   "source": [
    "plt.plot(C1) # plotting by columns\n",
    "plt.plot(C2)\n",
    "plt.show()"
   ]
  },
  {
   "cell_type": "code",
   "execution_count": 23,
   "metadata": {},
   "outputs": [
    {
     "data": {
      "image/png": "[encoded data removed]",
      "text/plain": [
       "<Figure size 432x288 with 1 Axes>"
      ]
     },
     "metadata": {
      "needs_background": "light"
     },
     "output_type": "display_data"
    }
   ],
   "source": [
    "plt.plot(C2) # plotting by columns\n",
    "plt.show()"
   ]
  },
  {
   "cell_type": "markdown",
   "metadata": {},
   "source": [
    "### Iteration # 2 : Modeling for Maharashtra"
   ]
  },
  {
   "cell_type": "code",
   "execution_count": 24,
   "metadata": {},
   "outputs": [
    {
     "data": {
      "text/plain": [
       "Text(08/06/20, 5000, 'Unlock 1.0')"
      ]
     },
     "execution_count": 24,
     "metadata": {},
     "output_type": "execute_result"
    },
    {
     "data": {
      "image/png": "[encoded data removed]",
      "text/plain": [
       "<Figure size 576x576 with 1 Axes>"
      ]
     },
     "metadata": {
      "needs_background": "light"
     },
     "output_type": "display_data"
    }
   ],
   "source": [
    "#df_m = pd.read_csv(\"covid_19_india.csv\")\n",
    "df_m = pd.read_csv(\"covid_19_india.csv\", parse_dates=['Date'],dayfirst=True)\n",
    "df_mah = df_m[(df_m['State/UnionTerritory']=='Maharashtra')]\n",
    "plt.figure(figsize=(8,8))\n",
    "plt.plot(df_mah['Date'],df_mah['Confirmed'],'-r')\n",
    "plt.rc(\"xtick\",labelsize=9)\n",
    "plt.rc(\"ytick\",labelsize=10)\n",
    "ax = plt.gca()\n",
    "start, end = ax.get_xlim()\n",
    "\n",
    "ax.xaxis.set_ticks(np.arange(start, end, 12))\n",
    "ax.spines['right'].set_visible(False)\n",
    "ax.spines['top'].set_visible(False)\n",
    "plt.xticks(rotation=45)\n",
    "plt.xlabel('Dates')\n",
    "plt.ylabel('Confirmed Cases')\n",
    "plt.title('Lockdown effect on confirmed cases')\n",
    "ax.annotate('Lockdown1', xy =('23/03/20',29), xytext=('23/03/20',15000),ha='center',\n",
    "                arrowprops = dict(facecolor ='Violet',shrink = 0.05),) \n",
    "ax.annotate('Lockdown 2', xy =('15/04/20',1561), xytext=('15/04/20',25000),ha='center',\n",
    "                arrowprops = dict(facecolor ='Red',shrink = 0.05),) \n",
    "ax.annotate('Lockdown 3', xy =('04/05/20',4549), xytext=('04/05/20',35000),ha='center', \n",
    "                arrowprops = dict(facecolor ='Yellow',shrink = 0.05),) \n",
    "ax.annotate('Lockdown 4', xy =('18/05/20',10054), xytext=('18/05/20',45000),ha='center',\n",
    "                arrowprops = dict(facecolor ='Black',shrink = 0.05),) \n",
    "ax.annotate('Unlock 1.0', xy =('08/06/20',27654), xytext=('08/06/20',5000),ha='center',\n",
    "                arrowprops = dict(facecolor ='Green',shrink = 0.05),) "
   ]
  },
  {
   "cell_type": "code",
   "execution_count": 25,
   "metadata": {},
   "outputs": [
    {
     "name": "stdout",
     "output_type": "stream",
     "text": [
      "Reported Confirmed Cases in Delhi :  [ 5221  5652  6430  6817  7628  8068  8590  9318  9915 10498 11506 12296\n",
      " 12974 14541 15525 16758 17974 19063 20228]\n"
     ]
    }
   ],
   "source": [
    "df_mah.reset_index(inplace=True)\n",
    "df_mah['minday']=df_mah['Date'].min()\n",
    "df_mah['days']=pd.Series(int)\n",
    "for i in range(len(df_mah)):\n",
    "    df_mah['days'][i]=(df_mah['Date'][i]-df_mah['minday'][i]).days\n",
    "df_mah_c=pd.DataFrame()\n",
    "df_mah_c=df_mah[df_mah['days'].between(44,62)]\n",
    "C3 = np.array(df_mah_c['Confirmed'])\n",
    "print (\"Reported Confirmed Cases in Delhi : \", C3)"
   ]
  },
  {
   "cell_type": "code",
   "execution_count": 26,
   "metadata": {},
   "outputs": [
    {
     "data": {
      "image/png": "[encoded data removed]",
      "text/plain": [
       "<Figure size 432x288 with 1 Axes>"
      ]
     },
     "metadata": {},
     "output_type": "display_data"
    },
    {
     "name": "stdout",
     "output_type": "stream",
     "text": [
      "Infected (I) : [1.00000000e+00 1.42524257e+02 2.01514815e+04 1.33819373e+06\n",
      " 2.36940836e+06 2.22204192e+06 2.06811841e+06 1.92468604e+06\n",
      " 1.79119874e+06 1.66696945e+06 1.55135613e+06 1.44376121e+06\n",
      " 1.34362860e+06 1.25044071e+06 1.16371590e+06 1.08300592e+06\n",
      " 1.00789361e+06 9.37990741e+05 8.72936018e+05 8.12393189e+05\n",
      " 7.56049335e+05 7.03613234e+05 6.54813860e+05 6.09398987e+05\n",
      " 5.67133880e+05 5.27800086e+05 4.91194300e+05 4.57127326e+05\n",
      " 4.25423085e+05 3.95917701e+05 3.68458674e+05 3.42904078e+05\n",
      " 3.19121833e+05 2.96989015e+05 2.76391220e+05 2.57221999e+05\n",
      " 2.39382266e+05 2.22779814e+05 2.07328833e+05 1.92949460e+05\n",
      " 1.79567374e+05 1.67113408e+05 1.55523192e+05 1.44736820e+05\n",
      " 1.34698540e+05 1.25356470e+05 1.16662323e+05 1.08571161e+05\n",
      " 1.01041166e+05 9.40334158e+04 8.75116912e+04 8.14422834e+04\n",
      " 7.57938216e+04 7.05371112e+04 6.56449823e+04 6.10921488e+04\n",
      " 5.68550789e+04 5.29118725e+04 4.92421488e+04 4.58269402e+04\n",
      " 4.26485947e+04 3.96906847e+04 3.69379216e+04 3.43760775e+04\n",
      " 3.19919112e+04 2.97730996e+04 2.77081746e+04 2.57864633e+04\n",
      " 2.39980330e+04 2.23336400e+04 2.07846817e+04 1.93431519e+04\n",
      " 1.80016000e+04 1.67530920e+04 1.55911747e+04 1.45098427e+04\n",
      " 1.35035068e+04 1.25669658e+04 1.16953790e+04 1.08842414e+04\n",
      " 1.01293605e+04 9.42683476e+03 8.77303294e+03 8.16457579e+03\n",
      " 7.59831844e+03 7.07133408e+03 6.58089893e+03 6.12447810e+03\n",
      " 5.69971252e+03 5.30440672e+03 4.93651751e+03 4.59414340e+03\n",
      " 4.27551478e+03 3.97898478e+03 3.70302073e+03 3.44619627e+03\n",
      " 3.20718398e+03 2.98474847e+03 2.77774007e+03 2.58508882e+03\n",
      " 2.40579897e+03 2.23894384e+03 2.08366101e+03 1.93914788e+03\n",
      " 1.80465752e+03 1.67949479e+03 1.56301277e+03 1.45460940e+03\n",
      " 1.35372440e+03 1.25983631e+03 1.17245987e+03 1.09114345e+03\n",
      " 1.01546677e+03 9.45038676e+02 8.79495148e+02 8.18497416e+02\n",
      " 7.61730207e+02 7.08900109e+02 6.59734064e+02 6.13977949e+02\n",
      " 5.71395268e+02 5.31765924e+02 4.94885090e+02 4.60562140e+02\n",
      " 4.28619673e+02 3.98892587e+02 3.71227235e+02 3.45480624e+02\n",
      " 3.21519680e+02 2.99220557e+02 2.78467997e+02 2.59154740e+02\n",
      " 2.41180961e+02 2.24453761e+02 2.08886683e+02 1.94399265e+02\n",
      " 1.80916627e+02 1.68369084e+02 1.56691780e+02 1.45824360e+02\n",
      " 1.35710654e+02 1.26298389e+02 1.17538914e+02 1.09386957e+02\n",
      " 1.01800381e+02 9.47399760e+01 8.81692478e+01 8.20542350e+01\n",
      " 7.63633313e+01 7.10671225e+01 6.61382343e+01 6.15511911e+01\n",
      " 5.72822841e+01 5.33094488e+01 4.96121511e+01 4.61712809e+01\n",
      " 4.29690536e+01 3.99889180e+01 3.72154709e+01 3.46343773e+01]\n",
      "Confirmed cases in Delhi as per SIR Model :  [19403.27556302 18057.55367005 16805.16490004 15639.63603503\n",
      " 14554.94287586 13545.47906075 12606.02698556 11731.73099718\n",
      " 10918.0721534  10160.84492503  9456.13551095  8800.30148623\n",
      "  8189.95309412  7621.93566884  7093.31336607  6601.35384479\n",
      "  6143.51438001  5717.42852453  5320.89402698]\n"
     ]
    }
   ],
   "source": [
    "# Total population of Maharashtra, N.\n",
    "N=int(0.02*128466921)\n",
    "# Initial number of infected and recovered individuals, I0 and R0.\n",
    "I0, R0 = 1, 0\n",
    "# Everyone else, S0, is susceptible to infection initially.\n",
    "S0 = N - I0 - R0\n",
    "# Contact rate, beta, and mean recovery rate, gamma, (in 1/days).\n",
    "beta, gamma = 5, 1./14 \n",
    "# A grid of time points (in days)\n",
    "t = np.linspace(0, 160, 160)\n",
    "\n",
    "# The SIR model differential equations.\n",
    "def deriv(y, t, N, beta, gamma):\n",
    "    S, I, R = y\n",
    "    dSdt = -beta * S * I / N\n",
    "    dIdt = beta * S * I / N - gamma * I\n",
    "    dRdt = gamma * I\n",
    "    return dSdt, dIdt, dRdt\n",
    "\n",
    "# Initial conditions vector\n",
    "y0 = S0, I0, R0\n",
    "# Integrate the SIR equations over the time grid, t.\n",
    "ret = odeint(deriv, y0, t, args=(N, beta, gamma))\n",
    "S, I, R = ret.T\n",
    "\n",
    "# Plot the data on three separate curves for S(t), I(t) and R(t)\n",
    "fig = plt.figure(facecolor='w')\n",
    "ax = fig.add_subplot(111, facecolor='#dddddd', axisbelow=True)\n",
    "ax.plot(t, S/1000, 'b', alpha=0.5, lw=2, label='Susceptible')\n",
    "ax.plot(t, I/1000, 'r', alpha=0.5, lw=2, label='Infected')\n",
    "ax.plot(t, R/1000, 'g', alpha=0.5, lw=2, label='Recovered with immunity')\n",
    "ax.set_xlabel('Time /days')\n",
    "ax.set_ylabel('Number (1000s)')\n",
    "ax.set_ylim(0,500)\n",
    "ax.yaxis.set_tick_params(length=0)\n",
    "ax.xaxis.set_tick_params(length=0)\n",
    "ax.grid(b=True, which='major', c='w', lw=2, ls='-')\n",
    "legend = ax.legend()\n",
    "legend.get_frame().set_alpha(0.5)\n",
    "for spine in ('top', 'right', 'bottom', 'left'):\n",
    "    ax.spines[spine].set_visible(False)\n",
    "plt.show()\n",
    "\n",
    "print('Infected (I) :' , I)\n",
    "C4 = I[44:63]\n",
    "print (\"Confirmed cases in Delhi as per SIR Model : \", C2)\n"
   ]
  },
  {
   "cell_type": "code",
   "execution_count": 27,
   "metadata": {},
   "outputs": [
    {
     "data": {
      "text/plain": [
       "Ttest_indResult(statistic=-9.17747522308674, pvalue=5.844643706601162e-11)"
      ]
     },
     "execution_count": 27,
     "metadata": {},
     "output_type": "execute_result"
    }
   ],
   "source": [
    "stats.ttest_ind(C3, C4)"
   ]
  }
 ],
 "metadata": {
  "kernelspec": {
   "display_name": "Python 3",
   "language": "python",
   "name": "python3"
  },
  "language_info": {
   "codemirror_mode": {
    "name": "ipython",
    "version": 3
   },
   "file_extension": ".py",
   "mimetype": "text/x-python",
   "name": "python",
   "nbconvert_exporter": "python",
   "pygments_lexer": "ipython3",
   "version": "3.7.4"
  }
 },
 "nbformat": 4,
 "nbformat_minor": 2
}
